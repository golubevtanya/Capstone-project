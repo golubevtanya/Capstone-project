{
 "cells": [
  {
   "cell_type": "markdown",
   "metadata": {},
   "source": [
    "# Capstone project by < Tanya Golubev > \n",
    "\n",
    "# < Salary predicition >"
   ]
  },
  {
   "cell_type": "markdown",
   "metadata": {},
   "source": [
    "## 1) The problem"
   ]
  },
  {
   "cell_type": "markdown",
   "metadata": {},
   "source": [
    "#### I want to explore the dependency of a person's income on her/his background, such as education, social status and capital. \n",
    "\n",
    "This should point out whether the most important factors for prosperity are within the free choice of a person or are predefined by her/his preconditions. \n",
    "\n",
    "The limitiations of the survey include:\n",
    "1) The restriction of the data to a small population of US citizens\n",
    "2) The survey took place 25 ears ago, the situation might have changed\n",
    "3) The real set of features that can influence the person's income is much broader than the one in the database"
   ]
  },
  {
   "cell_type": "markdown",
   "metadata": {},
   "source": [
    "## 2) The data"
   ]
  },
  {
   "cell_type": "markdown",
   "metadata": {},
   "source": [
    "#### This database can be found at https://archive.ics.uci.edu/ml/datasets/Census-Income+%28KDD%29\n",
    "Extraction was done by Barry Becker from the 1994 Census database https://data.census.gov/cedsci/.\n",
    "\n",
    "The dataset consistis of 199523 entries and 42 columns. It contains 14 numerical and 28 categorical features.\n",
    "\n",
    "The feature description can be found following the first link and will be attached as a separate file to github repository."
   ]
  },
  {
   "cell_type": "code",
   "execution_count": 1,
   "metadata": {},
   "outputs": [
    {
     "name": "stdout",
     "output_type": "stream",
     "text": [
      "(199523, 42)\n"
     ]
    },
    {
     "data": {
      "text/html": [
       "<div>\n",
       "<style scoped>\n",
       "    .dataframe tbody tr th:only-of-type {\n",
       "        vertical-align: middle;\n",
       "    }\n",
       "\n",
       "    .dataframe tbody tr th {\n",
       "        vertical-align: top;\n",
       "    }\n",
       "\n",
       "    .dataframe thead th {\n",
       "        text-align: right;\n",
       "    }\n",
       "</style>\n",
       "<table border=\"1\" class=\"dataframe\">\n",
       "  <thead>\n",
       "    <tr style=\"text-align: right;\">\n",
       "      <th></th>\n",
       "      <th>0</th>\n",
       "      <th>1</th>\n",
       "      <th>2</th>\n",
       "      <th>3</th>\n",
       "      <th>4</th>\n",
       "      <th>5</th>\n",
       "      <th>6</th>\n",
       "      <th>7</th>\n",
       "      <th>8</th>\n",
       "      <th>9</th>\n",
       "      <th>...</th>\n",
       "      <th>32</th>\n",
       "      <th>33</th>\n",
       "      <th>34</th>\n",
       "      <th>35</th>\n",
       "      <th>36</th>\n",
       "      <th>37</th>\n",
       "      <th>38</th>\n",
       "      <th>39</th>\n",
       "      <th>40</th>\n",
       "      <th>41</th>\n",
       "    </tr>\n",
       "  </thead>\n",
       "  <tbody>\n",
       "    <tr>\n",
       "      <th>0</th>\n",
       "      <td>73</td>\n",
       "      <td>Not in universe</td>\n",
       "      <td>0</td>\n",
       "      <td>0</td>\n",
       "      <td>High school graduate</td>\n",
       "      <td>0</td>\n",
       "      <td>Not in universe</td>\n",
       "      <td>Widowed</td>\n",
       "      <td>Not in universe or children</td>\n",
       "      <td>Not in universe</td>\n",
       "      <td>...</td>\n",
       "      <td>United-States</td>\n",
       "      <td>United-States</td>\n",
       "      <td>United-States</td>\n",
       "      <td>Native- Born in the United States</td>\n",
       "      <td>0</td>\n",
       "      <td>Not in universe</td>\n",
       "      <td>2</td>\n",
       "      <td>0</td>\n",
       "      <td>95</td>\n",
       "      <td>- 50000.</td>\n",
       "    </tr>\n",
       "    <tr>\n",
       "      <th>1</th>\n",
       "      <td>58</td>\n",
       "      <td>Self-employed-not incorporated</td>\n",
       "      <td>4</td>\n",
       "      <td>34</td>\n",
       "      <td>Some college but no degree</td>\n",
       "      <td>0</td>\n",
       "      <td>Not in universe</td>\n",
       "      <td>Divorced</td>\n",
       "      <td>Construction</td>\n",
       "      <td>Precision production craft &amp; repair</td>\n",
       "      <td>...</td>\n",
       "      <td>United-States</td>\n",
       "      <td>United-States</td>\n",
       "      <td>United-States</td>\n",
       "      <td>Native- Born in the United States</td>\n",
       "      <td>0</td>\n",
       "      <td>Not in universe</td>\n",
       "      <td>2</td>\n",
       "      <td>52</td>\n",
       "      <td>94</td>\n",
       "      <td>- 50000.</td>\n",
       "    </tr>\n",
       "    <tr>\n",
       "      <th>2</th>\n",
       "      <td>18</td>\n",
       "      <td>Not in universe</td>\n",
       "      <td>0</td>\n",
       "      <td>0</td>\n",
       "      <td>10th grade</td>\n",
       "      <td>0</td>\n",
       "      <td>High school</td>\n",
       "      <td>Never married</td>\n",
       "      <td>Not in universe or children</td>\n",
       "      <td>Not in universe</td>\n",
       "      <td>...</td>\n",
       "      <td>Vietnam</td>\n",
       "      <td>Vietnam</td>\n",
       "      <td>Vietnam</td>\n",
       "      <td>Foreign born- Not a citizen of U S</td>\n",
       "      <td>0</td>\n",
       "      <td>Not in universe</td>\n",
       "      <td>2</td>\n",
       "      <td>0</td>\n",
       "      <td>95</td>\n",
       "      <td>- 50000.</td>\n",
       "    </tr>\n",
       "    <tr>\n",
       "      <th>3</th>\n",
       "      <td>9</td>\n",
       "      <td>Not in universe</td>\n",
       "      <td>0</td>\n",
       "      <td>0</td>\n",
       "      <td>Children</td>\n",
       "      <td>0</td>\n",
       "      <td>Not in universe</td>\n",
       "      <td>Never married</td>\n",
       "      <td>Not in universe or children</td>\n",
       "      <td>Not in universe</td>\n",
       "      <td>...</td>\n",
       "      <td>United-States</td>\n",
       "      <td>United-States</td>\n",
       "      <td>United-States</td>\n",
       "      <td>Native- Born in the United States</td>\n",
       "      <td>0</td>\n",
       "      <td>Not in universe</td>\n",
       "      <td>0</td>\n",
       "      <td>0</td>\n",
       "      <td>94</td>\n",
       "      <td>- 50000.</td>\n",
       "    </tr>\n",
       "    <tr>\n",
       "      <th>4</th>\n",
       "      <td>10</td>\n",
       "      <td>Not in universe</td>\n",
       "      <td>0</td>\n",
       "      <td>0</td>\n",
       "      <td>Children</td>\n",
       "      <td>0</td>\n",
       "      <td>Not in universe</td>\n",
       "      <td>Never married</td>\n",
       "      <td>Not in universe or children</td>\n",
       "      <td>Not in universe</td>\n",
       "      <td>...</td>\n",
       "      <td>United-States</td>\n",
       "      <td>United-States</td>\n",
       "      <td>United-States</td>\n",
       "      <td>Native- Born in the United States</td>\n",
       "      <td>0</td>\n",
       "      <td>Not in universe</td>\n",
       "      <td>0</td>\n",
       "      <td>0</td>\n",
       "      <td>94</td>\n",
       "      <td>- 50000.</td>\n",
       "    </tr>\n",
       "  </tbody>\n",
       "</table>\n",
       "<p>5 rows × 42 columns</p>\n",
       "</div>"
      ],
      "text/plain": [
       "   0                                1   2   3                            4   \\\n",
       "0  73                  Not in universe   0   0         High school graduate   \n",
       "1  58   Self-employed-not incorporated   4  34   Some college but no degree   \n",
       "2  18                  Not in universe   0   0                   10th grade   \n",
       "3   9                  Not in universe   0   0                     Children   \n",
       "4  10                  Not in universe   0   0                     Children   \n",
       "\n",
       "   5                 6               7                             8   \\\n",
       "0   0   Not in universe         Widowed   Not in universe or children   \n",
       "1   0   Not in universe        Divorced                  Construction   \n",
       "2   0       High school   Never married   Not in universe or children   \n",
       "3   0   Not in universe   Never married   Not in universe or children   \n",
       "4   0   Not in universe   Never married   Not in universe or children   \n",
       "\n",
       "                                     9   ...              32              33  \\\n",
       "0                       Not in universe  ...   United-States   United-States   \n",
       "1   Precision production craft & repair  ...   United-States   United-States   \n",
       "2                       Not in universe  ...         Vietnam         Vietnam   \n",
       "3                       Not in universe  ...   United-States   United-States   \n",
       "4                       Not in universe  ...   United-States   United-States   \n",
       "\n",
       "               34                                    35 36                37  \\\n",
       "0   United-States     Native- Born in the United States  0   Not in universe   \n",
       "1   United-States     Native- Born in the United States  0   Not in universe   \n",
       "2         Vietnam   Foreign born- Not a citizen of U S   0   Not in universe   \n",
       "3   United-States     Native- Born in the United States  0   Not in universe   \n",
       "4   United-States     Native- Born in the United States  0   Not in universe   \n",
       "\n",
       "   38  39  40         41  \n",
       "0   2   0  95   - 50000.  \n",
       "1   2  52  94   - 50000.  \n",
       "2   2   0  95   - 50000.  \n",
       "3   0   0  94   - 50000.  \n",
       "4   0   0  94   - 50000.  \n",
       "\n",
       "[5 rows x 42 columns]"
      ]
     },
     "execution_count": 1,
     "metadata": {},
     "output_type": "execute_result"
    }
   ],
   "source": [
    "# Download the dataset\n",
    "import numpy as np\n",
    "import pandas as pd\n",
    "\n",
    "df = pd.read_csv('census-income.data', sep=',', engine='python', header = None)\n",
    "\n",
    "print(df.shape)\n",
    "df.head()"
   ]
  },
  {
   "cell_type": "code",
   "execution_count": 2,
   "metadata": {},
   "outputs": [
    {
     "name": "stdout",
     "output_type": "stream",
     "text": [
      "(199523, 41)\n"
     ]
    }
   ],
   "source": [
    "#create a list of column names\n",
    "column_names = [\"age\", \"class of worker\", \"detailed industry record\", \"detailed occupation record\",\"education\",\"wage per hour\",\n",
    "               \"enroll in edu inst last wk\",\"marital stat\",\"major industry code\",\"major occupation code\",\"race\",\"hispanic origin\",\n",
    "               \"sex\",\"member of a labor union\",\"reason for unemployment\",\"full or part time employment stat\",\"capital gains\",\n",
    "               \"capital losses\",\"dividends from stocks\",\"tax filer stat\",\"region of previous residence\",\"state of previous residence\",\n",
    "               \"detailed household and family stat\",\"detailed household summary in household\",\"instance weight\",\"migration code-change in msa\",\n",
    "               \"migration code-change in reg\",\"migration code-move within reg\",\"live in this house 1 year ago\",\"migration prev res in sunbelt\",\n",
    "               \"num persons worked for employer\",\"family members under 18\",\"country of birth father\",\"country of birth mother\",\"country of birth self\",\n",
    "                \"citizenship\",\"own business or self employed\",\"fill inc questionnaire for veterans admin\",\"veterans benefits\",\"weeks worked in year\",\n",
    "                \"year\",\"income\"]\n",
    "\n",
    "#Assign the list to column names\n",
    "df.columns = column_names\n",
    "\n",
    "#drop the column \"instance weight\" as suggested at the description file 'census-income.names'\n",
    "df.drop(['instance weight'], axis=1, inplace = True)\n",
    "\n",
    "print(df.shape)"
   ]
  },
  {
   "cell_type": "markdown",
   "metadata": {},
   "source": [
    "#### I aim to predict the annual income, whether it is more that 50K annually or less."
   ]
  },
  {
   "cell_type": "code",
   "execution_count": 3,
   "metadata": {},
   "outputs": [
    {
     "data": {
      "text/plain": [
       "array([' - 50000.', ' 50000+.'], dtype=object)"
      ]
     },
     "execution_count": 3,
     "metadata": {},
     "output_type": "execute_result"
    }
   ],
   "source": [
    "df['income'].unique()"
   ]
  },
  {
   "cell_type": "code",
   "execution_count": 4,
   "metadata": {},
   "outputs": [
    {
     "name": "stdout",
     "output_type": "stream",
     "text": [
      "[0 1]\n"
     ]
    }
   ],
   "source": [
    "# Make a target variable a binary one\n",
    "df['income'] = df['income'].astype(str).str.replace(' - 50000.', '0')\n",
    "df['income'] = df['income'].astype(str).str.replace(' 50000+..', '1')\n",
    "\n",
    "#check the replacement\n",
    "df['income'] = pd.to_numeric(df['income'])\n",
    "print(df['income'].unique())"
   ]
  },
  {
   "cell_type": "markdown",
   "metadata": {},
   "source": [
    "What is the class distribution for the target variable? "
   ]
  },
  {
   "cell_type": "code",
   "execution_count": 5,
   "metadata": {
    "scrolled": true
   },
   "outputs": [
    {
     "name": "stdout",
     "output_type": "stream",
     "text": [
      "List of labels: [0 1]\n",
      "Class distribution: [93.79419917  6.20580083]\n"
     ]
    }
   ],
   "source": [
    "#class distribuiton\n",
    "labels_list, labels_count = np.unique(df['income'], return_counts=True, axis=None)\n",
    "print ('List of labels:',labels_list)\n",
    "print ('Class distribution:',100*labels_count/df.shape[0])"
   ]
  },
  {
   "cell_type": "markdown",
   "metadata": {},
   "source": [
    "There is a need to keep in mind that the dataset is unbalanced: both when splitting the data and when choosing the approach to build a model."
   ]
  },
  {
   "cell_type": "markdown",
   "metadata": {},
   "source": [
    "#### Missing values"
   ]
  },
  {
   "cell_type": "code",
   "execution_count": 6,
   "metadata": {},
   "outputs": [
    {
     "name": "stdout",
     "output_type": "stream",
     "text": [
      "The amount of missimg values: 0\n"
     ]
    }
   ],
   "source": [
    "#Are there missing values?\n",
    "df_null= df.isnull().sum()\n",
    "print('The amount of missimg values:', df_null.sum())"
   ]
  },
  {
   "cell_type": "markdown",
   "metadata": {},
   "source": [
    "There is no formally missing data,but it is hidden under other signs, like '?' or 'Not in universe'. (Insight from the description file and scrolling through the dataset.)"
   ]
  },
  {
   "cell_type": "code",
   "execution_count": 7,
   "metadata": {},
   "outputs": [],
   "source": [
    "df=df.replace(\"\\?\", np.nan, regex=True)"
   ]
  },
  {
   "cell_type": "code",
   "execution_count": 8,
   "metadata": {
    "scrolled": true
   },
   "outputs": [
    {
     "data": {
      "text/html": [
       "<div>\n",
       "<style scoped>\n",
       "    .dataframe tbody tr th:only-of-type {\n",
       "        vertical-align: middle;\n",
       "    }\n",
       "\n",
       "    .dataframe tbody tr th {\n",
       "        vertical-align: top;\n",
       "    }\n",
       "\n",
       "    .dataframe thead th {\n",
       "        text-align: right;\n",
       "    }\n",
       "</style>\n",
       "<table border=\"1\" class=\"dataframe\">\n",
       "  <thead>\n",
       "    <tr style=\"text-align: right;\">\n",
       "      <th></th>\n",
       "      <th>N_val_quest</th>\n",
       "      <th>dtypes</th>\n",
       "      <th>N_val_Not in Universe</th>\n",
       "    </tr>\n",
       "  </thead>\n",
       "  <tbody>\n",
       "    <tr>\n",
       "      <th>fill inc questionnaire for veterans admin</th>\n",
       "      <td>0</td>\n",
       "      <td>object</td>\n",
       "      <td>197539.0</td>\n",
       "    </tr>\n",
       "    <tr>\n",
       "      <th>reason for unemployment</th>\n",
       "      <td>0</td>\n",
       "      <td>object</td>\n",
       "      <td>193453.0</td>\n",
       "    </tr>\n",
       "    <tr>\n",
       "      <th>enroll in edu inst last wk</th>\n",
       "      <td>0</td>\n",
       "      <td>object</td>\n",
       "      <td>186943.0</td>\n",
       "    </tr>\n",
       "    <tr>\n",
       "      <th>region of previous residence</th>\n",
       "      <td>0</td>\n",
       "      <td>object</td>\n",
       "      <td>183750.0</td>\n",
       "    </tr>\n",
       "    <tr>\n",
       "      <th>state of previous residence</th>\n",
       "      <td>708</td>\n",
       "      <td>object</td>\n",
       "      <td>183750.0</td>\n",
       "    </tr>\n",
       "    <tr>\n",
       "      <th>member of a labor union</th>\n",
       "      <td>0</td>\n",
       "      <td>object</td>\n",
       "      <td>180459.0</td>\n",
       "    </tr>\n",
       "    <tr>\n",
       "      <th>family members under 18</th>\n",
       "      <td>0</td>\n",
       "      <td>object</td>\n",
       "      <td>144232.0</td>\n",
       "    </tr>\n",
       "    <tr>\n",
       "      <th>live in this house 1 year ago</th>\n",
       "      <td>0</td>\n",
       "      <td>object</td>\n",
       "      <td>101212.0</td>\n",
       "    </tr>\n",
       "    <tr>\n",
       "      <th>major occupation code</th>\n",
       "      <td>0</td>\n",
       "      <td>object</td>\n",
       "      <td>100684.0</td>\n",
       "    </tr>\n",
       "    <tr>\n",
       "      <th>major industry code</th>\n",
       "      <td>0</td>\n",
       "      <td>object</td>\n",
       "      <td>100684.0</td>\n",
       "    </tr>\n",
       "    <tr>\n",
       "      <th>class of worker</th>\n",
       "      <td>0</td>\n",
       "      <td>object</td>\n",
       "      <td>100245.0</td>\n",
       "    </tr>\n",
       "    <tr>\n",
       "      <th>migration prev res in sunbelt</th>\n",
       "      <td>99696</td>\n",
       "      <td>object</td>\n",
       "      <td>84054.0</td>\n",
       "    </tr>\n",
       "    <tr>\n",
       "      <th>migration code-move within reg</th>\n",
       "      <td>99696</td>\n",
       "      <td>object</td>\n",
       "      <td>1516.0</td>\n",
       "    </tr>\n",
       "    <tr>\n",
       "      <th>migration code-change in reg</th>\n",
       "      <td>99696</td>\n",
       "      <td>object</td>\n",
       "      <td>1516.0</td>\n",
       "    </tr>\n",
       "    <tr>\n",
       "      <th>migration code-change in msa</th>\n",
       "      <td>99696</td>\n",
       "      <td>object</td>\n",
       "      <td>1516.0</td>\n",
       "    </tr>\n",
       "    <tr>\n",
       "      <th>country of birth mother</th>\n",
       "      <td>6119</td>\n",
       "      <td>object</td>\n",
       "      <td>0.0</td>\n",
       "    </tr>\n",
       "    <tr>\n",
       "      <th>country of birth self</th>\n",
       "      <td>3393</td>\n",
       "      <td>object</td>\n",
       "      <td>0.0</td>\n",
       "    </tr>\n",
       "    <tr>\n",
       "      <th>detailed household summary in household</th>\n",
       "      <td>0</td>\n",
       "      <td>object</td>\n",
       "      <td>0.0</td>\n",
       "    </tr>\n",
       "    <tr>\n",
       "      <th>detailed household and family stat</th>\n",
       "      <td>0</td>\n",
       "      <td>object</td>\n",
       "      <td>0.0</td>\n",
       "    </tr>\n",
       "    <tr>\n",
       "      <th>tax filer stat</th>\n",
       "      <td>0</td>\n",
       "      <td>object</td>\n",
       "      <td>0.0</td>\n",
       "    </tr>\n",
       "    <tr>\n",
       "      <th>citizenship</th>\n",
       "      <td>0</td>\n",
       "      <td>object</td>\n",
       "      <td>0.0</td>\n",
       "    </tr>\n",
       "    <tr>\n",
       "      <th>full or part time employment stat</th>\n",
       "      <td>0</td>\n",
       "      <td>object</td>\n",
       "      <td>0.0</td>\n",
       "    </tr>\n",
       "    <tr>\n",
       "      <th>sex</th>\n",
       "      <td>0</td>\n",
       "      <td>object</td>\n",
       "      <td>0.0</td>\n",
       "    </tr>\n",
       "    <tr>\n",
       "      <th>hispanic origin</th>\n",
       "      <td>0</td>\n",
       "      <td>object</td>\n",
       "      <td>0.0</td>\n",
       "    </tr>\n",
       "    <tr>\n",
       "      <th>race</th>\n",
       "      <td>0</td>\n",
       "      <td>object</td>\n",
       "      <td>0.0</td>\n",
       "    </tr>\n",
       "    <tr>\n",
       "      <th>marital stat</th>\n",
       "      <td>0</td>\n",
       "      <td>object</td>\n",
       "      <td>0.0</td>\n",
       "    </tr>\n",
       "    <tr>\n",
       "      <th>education</th>\n",
       "      <td>0</td>\n",
       "      <td>object</td>\n",
       "      <td>0.0</td>\n",
       "    </tr>\n",
       "    <tr>\n",
       "      <th>country of birth father</th>\n",
       "      <td>6713</td>\n",
       "      <td>object</td>\n",
       "      <td>0.0</td>\n",
       "    </tr>\n",
       "    <tr>\n",
       "      <th>own business or self employed</th>\n",
       "      <td>0</td>\n",
       "      <td>int64</td>\n",
       "      <td>0.0</td>\n",
       "    </tr>\n",
       "    <tr>\n",
       "      <th>veterans benefits</th>\n",
       "      <td>0</td>\n",
       "      <td>int64</td>\n",
       "      <td>0.0</td>\n",
       "    </tr>\n",
       "    <tr>\n",
       "      <th>weeks worked in year</th>\n",
       "      <td>0</td>\n",
       "      <td>int64</td>\n",
       "      <td>0.0</td>\n",
       "    </tr>\n",
       "    <tr>\n",
       "      <th>year</th>\n",
       "      <td>0</td>\n",
       "      <td>int64</td>\n",
       "      <td>0.0</td>\n",
       "    </tr>\n",
       "    <tr>\n",
       "      <th>age</th>\n",
       "      <td>0</td>\n",
       "      <td>int64</td>\n",
       "      <td>0.0</td>\n",
       "    </tr>\n",
       "    <tr>\n",
       "      <th>num persons worked for employer</th>\n",
       "      <td>0</td>\n",
       "      <td>int64</td>\n",
       "      <td>0.0</td>\n",
       "    </tr>\n",
       "    <tr>\n",
       "      <th>dividends from stocks</th>\n",
       "      <td>0</td>\n",
       "      <td>int64</td>\n",
       "      <td>0.0</td>\n",
       "    </tr>\n",
       "    <tr>\n",
       "      <th>capital losses</th>\n",
       "      <td>0</td>\n",
       "      <td>int64</td>\n",
       "      <td>0.0</td>\n",
       "    </tr>\n",
       "    <tr>\n",
       "      <th>capital gains</th>\n",
       "      <td>0</td>\n",
       "      <td>int64</td>\n",
       "      <td>0.0</td>\n",
       "    </tr>\n",
       "    <tr>\n",
       "      <th>wage per hour</th>\n",
       "      <td>0</td>\n",
       "      <td>int64</td>\n",
       "      <td>0.0</td>\n",
       "    </tr>\n",
       "    <tr>\n",
       "      <th>detailed occupation record</th>\n",
       "      <td>0</td>\n",
       "      <td>int64</td>\n",
       "      <td>0.0</td>\n",
       "    </tr>\n",
       "    <tr>\n",
       "      <th>detailed industry record</th>\n",
       "      <td>0</td>\n",
       "      <td>int64</td>\n",
       "      <td>0.0</td>\n",
       "    </tr>\n",
       "    <tr>\n",
       "      <th>income</th>\n",
       "      <td>0</td>\n",
       "      <td>int64</td>\n",
       "      <td>0.0</td>\n",
       "    </tr>\n",
       "  </tbody>\n",
       "</table>\n",
       "</div>"
      ],
      "text/plain": [
       "                                           N_val_quest  dtypes  \\\n",
       "fill inc questionnaire for veterans admin            0  object   \n",
       "reason for unemployment                              0  object   \n",
       "enroll in edu inst last wk                           0  object   \n",
       "region of previous residence                         0  object   \n",
       "state of previous residence                        708  object   \n",
       "member of a labor union                              0  object   \n",
       "family members under 18                              0  object   \n",
       "live in this house 1 year ago                        0  object   \n",
       "major occupation code                                0  object   \n",
       "major industry code                                  0  object   \n",
       "class of worker                                      0  object   \n",
       "migration prev res in sunbelt                    99696  object   \n",
       "migration code-move within reg                   99696  object   \n",
       "migration code-change in reg                     99696  object   \n",
       "migration code-change in msa                     99696  object   \n",
       "country of birth mother                           6119  object   \n",
       "country of birth self                             3393  object   \n",
       "detailed household summary in household              0  object   \n",
       "detailed household and family stat                   0  object   \n",
       "tax filer stat                                       0  object   \n",
       "citizenship                                          0  object   \n",
       "full or part time employment stat                    0  object   \n",
       "sex                                                  0  object   \n",
       "hispanic origin                                      0  object   \n",
       "race                                                 0  object   \n",
       "marital stat                                         0  object   \n",
       "education                                            0  object   \n",
       "country of birth father                           6713  object   \n",
       "own business or self employed                        0   int64   \n",
       "veterans benefits                                    0   int64   \n",
       "weeks worked in year                                 0   int64   \n",
       "year                                                 0   int64   \n",
       "age                                                  0   int64   \n",
       "num persons worked for employer                      0   int64   \n",
       "dividends from stocks                                0   int64   \n",
       "capital losses                                       0   int64   \n",
       "capital gains                                        0   int64   \n",
       "wage per hour                                        0   int64   \n",
       "detailed occupation record                           0   int64   \n",
       "detailed industry record                             0   int64   \n",
       "income                                               0   int64   \n",
       "\n",
       "                                           N_val_Not in Universe  \n",
       "fill inc questionnaire for veterans admin               197539.0  \n",
       "reason for unemployment                                 193453.0  \n",
       "enroll in edu inst last wk                              186943.0  \n",
       "region of previous residence                            183750.0  \n",
       "state of previous residence                             183750.0  \n",
       "member of a labor union                                 180459.0  \n",
       "family members under 18                                 144232.0  \n",
       "live in this house 1 year ago                           101212.0  \n",
       "major occupation code                                   100684.0  \n",
       "major industry code                                     100684.0  \n",
       "class of worker                                         100245.0  \n",
       "migration prev res in sunbelt                            84054.0  \n",
       "migration code-move within reg                            1516.0  \n",
       "migration code-change in reg                              1516.0  \n",
       "migration code-change in msa                              1516.0  \n",
       "country of birth mother                                      0.0  \n",
       "country of birth self                                        0.0  \n",
       "detailed household summary in household                      0.0  \n",
       "detailed household and family stat                           0.0  \n",
       "tax filer stat                                               0.0  \n",
       "citizenship                                                  0.0  \n",
       "full or part time employment stat                            0.0  \n",
       "sex                                                          0.0  \n",
       "hispanic origin                                              0.0  \n",
       "race                                                         0.0  \n",
       "marital stat                                                 0.0  \n",
       "education                                                    0.0  \n",
       "country of birth father                                      0.0  \n",
       "own business or self employed                                0.0  \n",
       "veterans benefits                                            0.0  \n",
       "weeks worked in year                                         0.0  \n",
       "year                                                         0.0  \n",
       "age                                                          0.0  \n",
       "num persons worked for employer                              0.0  \n",
       "dividends from stocks                                        0.0  \n",
       "capital losses                                               0.0  \n",
       "capital gains                                                0.0  \n",
       "wage per hour                                                0.0  \n",
       "detailed occupation record                                   0.0  \n",
       "detailed industry record                                     0.0  \n",
       "income                                                       0.0  "
      ]
     },
     "execution_count": 8,
     "metadata": {},
     "output_type": "execute_result"
    }
   ],
   "source": [
    "#Create a database reflecting amount of missing values and data types\n",
    "\n",
    "#Create an additinal DataFrame, reflecting amount of missing values per each column\n",
    "df_null= df.isnull().sum()\n",
    "#add data type\n",
    "data_missing =  {'N_val_quest': df_null, 'dtypes': df[df_null.index].dtypes}\n",
    "df_data_missing  = pd.DataFrame(data_missing) \n",
    "df_data_missing.sort_values(by = ['dtypes'], ascending = False, inplace = True)\n",
    "df_data_missing\n",
    "\n",
    "#Add a column reflecting the amount of \"Not in universe\" per (categorical) feature\n",
    "df_objects = df_data_missing[df_data_missing['dtypes'] == 'object'].index\n",
    "\n",
    "NiU= []\n",
    "for i in range (len(df_objects)):\n",
    "    NiU.append (df[df_objects[i]].astype(str).str.contains('Not in universe').sum())\n",
    "    \n",
    "#add zeros to all features whos data type is not \"object\"\n",
    "Zeros = np.zeros (len(df_data_missing.index) - len(df_objects))\n",
    "   \n",
    "NiU = np.array(NiU)\n",
    "\n",
    "df_data_missing['N_val_Not in Universe'] = np.append(NiU,Zeros)\n",
    "df_data_missing.sort_values(by = ['dtypes', 'N_val_Not in Universe'], ascending = False, inplace = True)\n",
    "df_data_missing"
   ]
  },
  {
   "cell_type": "markdown",
   "metadata": {},
   "source": [
    " I do not plan to distinguish the questions marks from the \"Not in universe\" entry later on and will treat them equally as missing values."
   ]
  },
  {
   "cell_type": "code",
   "execution_count": 9,
   "metadata": {},
   "outputs": [
    {
     "name": "stdout",
     "output_type": "stream",
     "text": [
      "The amount of missimg values: 2177270\n"
     ]
    }
   ],
   "source": [
    "#replase 'Not in universe' with NaN\n",
    "df=df.replace('Not in universe', np.nan, regex=True)\n",
    "#Are there missing values now?\n",
    "df_null= df.isnull().sum()\n",
    "print('The amount of missimg values:', df_null.sum())"
   ]
  },
  {
   "cell_type": "markdown",
   "metadata": {},
   "source": [
    "There can also be hidden missing values in numeric features. For example, missing values that occur as zeros.\n",
    "\n",
    "They are very hard to track, as the income can come from very different sources and the database do not cover all of them. So I won't try to trace them."
   ]
  },
  {
   "cell_type": "markdown",
   "metadata": {},
   "source": [
    "#### Additional feature - amount of missing values in the entry"
   ]
  },
  {
   "cell_type": "code",
   "execution_count": 10,
   "metadata": {},
   "outputs": [],
   "source": [
    "df['N_miss_val'] = df.isnull().sum(axis=1)"
   ]
  },
  {
   "cell_type": "markdown",
   "metadata": {},
   "source": [
    "#### Duplicates"
   ]
  },
  {
   "cell_type": "code",
   "execution_count": 11,
   "metadata": {},
   "outputs": [
    {
     "name": "stdout",
     "output_type": "stream",
     "text": [
      "Amount of duplicated rows: 46627 in percentage: 0.23369235626970325\n",
      "Amount of columns in the initial database: 42\n",
      "Amount of columns after deleting completely identical columns: 42\n"
     ]
    }
   ],
   "source": [
    "#Are there complete duplicates (in rows)?\n",
    "print ('Amount of duplicated rows:',df.duplicated().sum(), 'in percentage:',  df.duplicated().sum()/df.shape[0])\n",
    "#Are there complete duplicates (in columns)? If yes, delete them!\n",
    "print ('Amount of columns in the initial database:',df.shape[1])\n",
    "df =df.dropna(axis = 1, how = \"all\")\n",
    "print ('Amount of columns after deleting completely identical columns:',df.shape[1])"
   ]
  },
  {
   "cell_type": "code",
   "execution_count": 12,
   "metadata": {},
   "outputs": [
    {
     "data": {
      "text/html": [
       "<div>\n",
       "<style scoped>\n",
       "    .dataframe tbody tr th:only-of-type {\n",
       "        vertical-align: middle;\n",
       "    }\n",
       "\n",
       "    .dataframe tbody tr th {\n",
       "        vertical-align: top;\n",
       "    }\n",
       "\n",
       "    .dataframe thead th {\n",
       "        text-align: right;\n",
       "    }\n",
       "</style>\n",
       "<table border=\"1\" class=\"dataframe\">\n",
       "  <thead>\n",
       "    <tr style=\"text-align: right;\">\n",
       "      <th></th>\n",
       "      <th>age</th>\n",
       "      <th>class of worker</th>\n",
       "      <th>detailed industry record</th>\n",
       "      <th>detailed occupation record</th>\n",
       "      <th>education</th>\n",
       "      <th>wage per hour</th>\n",
       "      <th>enroll in edu inst last wk</th>\n",
       "      <th>marital stat</th>\n",
       "      <th>major industry code</th>\n",
       "      <th>major occupation code</th>\n",
       "      <th>...</th>\n",
       "      <th>country of birth mother</th>\n",
       "      <th>country of birth self</th>\n",
       "      <th>citizenship</th>\n",
       "      <th>own business or self employed</th>\n",
       "      <th>fill inc questionnaire for veterans admin</th>\n",
       "      <th>veterans benefits</th>\n",
       "      <th>weeks worked in year</th>\n",
       "      <th>year</th>\n",
       "      <th>income</th>\n",
       "      <th>N_miss_val</th>\n",
       "    </tr>\n",
       "  </thead>\n",
       "  <tbody>\n",
       "    <tr>\n",
       "      <th>121</th>\n",
       "      <td>2</td>\n",
       "      <td>NaN</td>\n",
       "      <td>0</td>\n",
       "      <td>0</td>\n",
       "      <td>Children</td>\n",
       "      <td>0</td>\n",
       "      <td>NaN</td>\n",
       "      <td>Never married</td>\n",
       "      <td>NaN</td>\n",
       "      <td>NaN</td>\n",
       "      <td>...</td>\n",
       "      <td>United-States</td>\n",
       "      <td>United-States</td>\n",
       "      <td>Native- Born in the United States</td>\n",
       "      <td>0</td>\n",
       "      <td>NaN</td>\n",
       "      <td>0</td>\n",
       "      <td>0</td>\n",
       "      <td>94</td>\n",
       "      <td>0</td>\n",
       "      <td>10</td>\n",
       "    </tr>\n",
       "    <tr>\n",
       "      <th>226</th>\n",
       "      <td>6</td>\n",
       "      <td>NaN</td>\n",
       "      <td>0</td>\n",
       "      <td>0</td>\n",
       "      <td>Children</td>\n",
       "      <td>0</td>\n",
       "      <td>NaN</td>\n",
       "      <td>Never married</td>\n",
       "      <td>NaN</td>\n",
       "      <td>NaN</td>\n",
       "      <td>...</td>\n",
       "      <td>United-States</td>\n",
       "      <td>United-States</td>\n",
       "      <td>Native- Born in the United States</td>\n",
       "      <td>0</td>\n",
       "      <td>NaN</td>\n",
       "      <td>0</td>\n",
       "      <td>0</td>\n",
       "      <td>94</td>\n",
       "      <td>0</td>\n",
       "      <td>10</td>\n",
       "    </tr>\n",
       "    <tr>\n",
       "      <th>243</th>\n",
       "      <td>3</td>\n",
       "      <td>NaN</td>\n",
       "      <td>0</td>\n",
       "      <td>0</td>\n",
       "      <td>Children</td>\n",
       "      <td>0</td>\n",
       "      <td>NaN</td>\n",
       "      <td>Never married</td>\n",
       "      <td>NaN</td>\n",
       "      <td>NaN</td>\n",
       "      <td>...</td>\n",
       "      <td>United-States</td>\n",
       "      <td>United-States</td>\n",
       "      <td>Native- Born in the United States</td>\n",
       "      <td>0</td>\n",
       "      <td>NaN</td>\n",
       "      <td>0</td>\n",
       "      <td>0</td>\n",
       "      <td>94</td>\n",
       "      <td>0</td>\n",
       "      <td>10</td>\n",
       "    </tr>\n",
       "    <tr>\n",
       "      <th>305</th>\n",
       "      <td>10</td>\n",
       "      <td>NaN</td>\n",
       "      <td>0</td>\n",
       "      <td>0</td>\n",
       "      <td>Children</td>\n",
       "      <td>0</td>\n",
       "      <td>NaN</td>\n",
       "      <td>Never married</td>\n",
       "      <td>NaN</td>\n",
       "      <td>NaN</td>\n",
       "      <td>...</td>\n",
       "      <td>United-States</td>\n",
       "      <td>United-States</td>\n",
       "      <td>Native- Born in the United States</td>\n",
       "      <td>0</td>\n",
       "      <td>NaN</td>\n",
       "      <td>0</td>\n",
       "      <td>0</td>\n",
       "      <td>95</td>\n",
       "      <td>0</td>\n",
       "      <td>14</td>\n",
       "    </tr>\n",
       "    <tr>\n",
       "      <th>344</th>\n",
       "      <td>1</td>\n",
       "      <td>NaN</td>\n",
       "      <td>0</td>\n",
       "      <td>0</td>\n",
       "      <td>Children</td>\n",
       "      <td>0</td>\n",
       "      <td>NaN</td>\n",
       "      <td>Never married</td>\n",
       "      <td>NaN</td>\n",
       "      <td>NaN</td>\n",
       "      <td>...</td>\n",
       "      <td>United-States</td>\n",
       "      <td>United-States</td>\n",
       "      <td>Native- Born in the United States</td>\n",
       "      <td>0</td>\n",
       "      <td>NaN</td>\n",
       "      <td>0</td>\n",
       "      <td>0</td>\n",
       "      <td>95</td>\n",
       "      <td>0</td>\n",
       "      <td>14</td>\n",
       "    </tr>\n",
       "    <tr>\n",
       "      <th>353</th>\n",
       "      <td>12</td>\n",
       "      <td>NaN</td>\n",
       "      <td>0</td>\n",
       "      <td>0</td>\n",
       "      <td>Children</td>\n",
       "      <td>0</td>\n",
       "      <td>NaN</td>\n",
       "      <td>Never married</td>\n",
       "      <td>NaN</td>\n",
       "      <td>NaN</td>\n",
       "      <td>...</td>\n",
       "      <td>United-States</td>\n",
       "      <td>United-States</td>\n",
       "      <td>Native- Born in the United States</td>\n",
       "      <td>0</td>\n",
       "      <td>NaN</td>\n",
       "      <td>0</td>\n",
       "      <td>0</td>\n",
       "      <td>95</td>\n",
       "      <td>0</td>\n",
       "      <td>14</td>\n",
       "    </tr>\n",
       "    <tr>\n",
       "      <th>359</th>\n",
       "      <td>12</td>\n",
       "      <td>NaN</td>\n",
       "      <td>0</td>\n",
       "      <td>0</td>\n",
       "      <td>Children</td>\n",
       "      <td>0</td>\n",
       "      <td>NaN</td>\n",
       "      <td>Never married</td>\n",
       "      <td>NaN</td>\n",
       "      <td>NaN</td>\n",
       "      <td>...</td>\n",
       "      <td>United-States</td>\n",
       "      <td>United-States</td>\n",
       "      <td>Native- Born in the United States</td>\n",
       "      <td>0</td>\n",
       "      <td>NaN</td>\n",
       "      <td>0</td>\n",
       "      <td>0</td>\n",
       "      <td>95</td>\n",
       "      <td>0</td>\n",
       "      <td>14</td>\n",
       "    </tr>\n",
       "    <tr>\n",
       "      <th>382</th>\n",
       "      <td>1</td>\n",
       "      <td>NaN</td>\n",
       "      <td>0</td>\n",
       "      <td>0</td>\n",
       "      <td>Children</td>\n",
       "      <td>0</td>\n",
       "      <td>NaN</td>\n",
       "      <td>Never married</td>\n",
       "      <td>NaN</td>\n",
       "      <td>NaN</td>\n",
       "      <td>...</td>\n",
       "      <td>United-States</td>\n",
       "      <td>United-States</td>\n",
       "      <td>Native- Born in the United States</td>\n",
       "      <td>0</td>\n",
       "      <td>NaN</td>\n",
       "      <td>0</td>\n",
       "      <td>0</td>\n",
       "      <td>95</td>\n",
       "      <td>0</td>\n",
       "      <td>14</td>\n",
       "    </tr>\n",
       "    <tr>\n",
       "      <th>405</th>\n",
       "      <td>15</td>\n",
       "      <td>NaN</td>\n",
       "      <td>0</td>\n",
       "      <td>0</td>\n",
       "      <td>7th and 8th grade</td>\n",
       "      <td>0</td>\n",
       "      <td>NaN</td>\n",
       "      <td>Never married</td>\n",
       "      <td>NaN</td>\n",
       "      <td>NaN</td>\n",
       "      <td>...</td>\n",
       "      <td>United-States</td>\n",
       "      <td>United-States</td>\n",
       "      <td>Native- Born in the United States</td>\n",
       "      <td>0</td>\n",
       "      <td>NaN</td>\n",
       "      <td>2</td>\n",
       "      <td>0</td>\n",
       "      <td>94</td>\n",
       "      <td>0</td>\n",
       "      <td>10</td>\n",
       "    </tr>\n",
       "    <tr>\n",
       "      <th>422</th>\n",
       "      <td>0</td>\n",
       "      <td>NaN</td>\n",
       "      <td>0</td>\n",
       "      <td>0</td>\n",
       "      <td>Children</td>\n",
       "      <td>0</td>\n",
       "      <td>NaN</td>\n",
       "      <td>Never married</td>\n",
       "      <td>NaN</td>\n",
       "      <td>NaN</td>\n",
       "      <td>...</td>\n",
       "      <td>United-States</td>\n",
       "      <td>United-States</td>\n",
       "      <td>Native- Born in the United States</td>\n",
       "      <td>0</td>\n",
       "      <td>NaN</td>\n",
       "      <td>0</td>\n",
       "      <td>0</td>\n",
       "      <td>94</td>\n",
       "      <td>0</td>\n",
       "      <td>14</td>\n",
       "    </tr>\n",
       "    <tr>\n",
       "      <th>438</th>\n",
       "      <td>10</td>\n",
       "      <td>NaN</td>\n",
       "      <td>0</td>\n",
       "      <td>0</td>\n",
       "      <td>Children</td>\n",
       "      <td>0</td>\n",
       "      <td>NaN</td>\n",
       "      <td>Never married</td>\n",
       "      <td>NaN</td>\n",
       "      <td>NaN</td>\n",
       "      <td>...</td>\n",
       "      <td>United-States</td>\n",
       "      <td>United-States</td>\n",
       "      <td>Native- Born in the United States</td>\n",
       "      <td>0</td>\n",
       "      <td>NaN</td>\n",
       "      <td>0</td>\n",
       "      <td>0</td>\n",
       "      <td>94</td>\n",
       "      <td>0</td>\n",
       "      <td>10</td>\n",
       "    </tr>\n",
       "    <tr>\n",
       "      <th>450</th>\n",
       "      <td>3</td>\n",
       "      <td>NaN</td>\n",
       "      <td>0</td>\n",
       "      <td>0</td>\n",
       "      <td>Children</td>\n",
       "      <td>0</td>\n",
       "      <td>NaN</td>\n",
       "      <td>Never married</td>\n",
       "      <td>NaN</td>\n",
       "      <td>NaN</td>\n",
       "      <td>...</td>\n",
       "      <td>United-States</td>\n",
       "      <td>United-States</td>\n",
       "      <td>Native- Born in the United States</td>\n",
       "      <td>0</td>\n",
       "      <td>NaN</td>\n",
       "      <td>0</td>\n",
       "      <td>0</td>\n",
       "      <td>94</td>\n",
       "      <td>0</td>\n",
       "      <td>10</td>\n",
       "    </tr>\n",
       "    <tr>\n",
       "      <th>482</th>\n",
       "      <td>11</td>\n",
       "      <td>NaN</td>\n",
       "      <td>0</td>\n",
       "      <td>0</td>\n",
       "      <td>Children</td>\n",
       "      <td>0</td>\n",
       "      <td>NaN</td>\n",
       "      <td>Never married</td>\n",
       "      <td>NaN</td>\n",
       "      <td>NaN</td>\n",
       "      <td>...</td>\n",
       "      <td>United-States</td>\n",
       "      <td>United-States</td>\n",
       "      <td>Native- Born in the United States</td>\n",
       "      <td>0</td>\n",
       "      <td>NaN</td>\n",
       "      <td>0</td>\n",
       "      <td>0</td>\n",
       "      <td>95</td>\n",
       "      <td>0</td>\n",
       "      <td>14</td>\n",
       "    </tr>\n",
       "    <tr>\n",
       "      <th>519</th>\n",
       "      <td>7</td>\n",
       "      <td>NaN</td>\n",
       "      <td>0</td>\n",
       "      <td>0</td>\n",
       "      <td>Children</td>\n",
       "      <td>0</td>\n",
       "      <td>NaN</td>\n",
       "      <td>Never married</td>\n",
       "      <td>NaN</td>\n",
       "      <td>NaN</td>\n",
       "      <td>...</td>\n",
       "      <td>United-States</td>\n",
       "      <td>United-States</td>\n",
       "      <td>Native- Born in the United States</td>\n",
       "      <td>0</td>\n",
       "      <td>NaN</td>\n",
       "      <td>0</td>\n",
       "      <td>0</td>\n",
       "      <td>95</td>\n",
       "      <td>0</td>\n",
       "      <td>14</td>\n",
       "    </tr>\n",
       "    <tr>\n",
       "      <th>550</th>\n",
       "      <td>6</td>\n",
       "      <td>NaN</td>\n",
       "      <td>0</td>\n",
       "      <td>0</td>\n",
       "      <td>Children</td>\n",
       "      <td>0</td>\n",
       "      <td>NaN</td>\n",
       "      <td>Never married</td>\n",
       "      <td>NaN</td>\n",
       "      <td>NaN</td>\n",
       "      <td>...</td>\n",
       "      <td>United-States</td>\n",
       "      <td>United-States</td>\n",
       "      <td>Native- Born in the United States</td>\n",
       "      <td>0</td>\n",
       "      <td>NaN</td>\n",
       "      <td>0</td>\n",
       "      <td>0</td>\n",
       "      <td>95</td>\n",
       "      <td>0</td>\n",
       "      <td>14</td>\n",
       "    </tr>\n",
       "    <tr>\n",
       "      <th>567</th>\n",
       "      <td>0</td>\n",
       "      <td>NaN</td>\n",
       "      <td>0</td>\n",
       "      <td>0</td>\n",
       "      <td>Children</td>\n",
       "      <td>0</td>\n",
       "      <td>NaN</td>\n",
       "      <td>Never married</td>\n",
       "      <td>NaN</td>\n",
       "      <td>NaN</td>\n",
       "      <td>...</td>\n",
       "      <td>United-States</td>\n",
       "      <td>United-States</td>\n",
       "      <td>Native- Born in the United States</td>\n",
       "      <td>0</td>\n",
       "      <td>NaN</td>\n",
       "      <td>0</td>\n",
       "      <td>0</td>\n",
       "      <td>95</td>\n",
       "      <td>0</td>\n",
       "      <td>14</td>\n",
       "    </tr>\n",
       "    <tr>\n",
       "      <th>575</th>\n",
       "      <td>1</td>\n",
       "      <td>NaN</td>\n",
       "      <td>0</td>\n",
       "      <td>0</td>\n",
       "      <td>Children</td>\n",
       "      <td>0</td>\n",
       "      <td>NaN</td>\n",
       "      <td>Never married</td>\n",
       "      <td>NaN</td>\n",
       "      <td>NaN</td>\n",
       "      <td>...</td>\n",
       "      <td>United-States</td>\n",
       "      <td>United-States</td>\n",
       "      <td>Native- Born in the United States</td>\n",
       "      <td>0</td>\n",
       "      <td>NaN</td>\n",
       "      <td>0</td>\n",
       "      <td>0</td>\n",
       "      <td>95</td>\n",
       "      <td>0</td>\n",
       "      <td>14</td>\n",
       "    </tr>\n",
       "    <tr>\n",
       "      <th>599</th>\n",
       "      <td>10</td>\n",
       "      <td>NaN</td>\n",
       "      <td>0</td>\n",
       "      <td>0</td>\n",
       "      <td>Children</td>\n",
       "      <td>0</td>\n",
       "      <td>NaN</td>\n",
       "      <td>Never married</td>\n",
       "      <td>NaN</td>\n",
       "      <td>NaN</td>\n",
       "      <td>...</td>\n",
       "      <td>United-States</td>\n",
       "      <td>United-States</td>\n",
       "      <td>Native- Born in the United States</td>\n",
       "      <td>0</td>\n",
       "      <td>NaN</td>\n",
       "      <td>0</td>\n",
       "      <td>0</td>\n",
       "      <td>95</td>\n",
       "      <td>0</td>\n",
       "      <td>14</td>\n",
       "    </tr>\n",
       "    <tr>\n",
       "      <th>614</th>\n",
       "      <td>5</td>\n",
       "      <td>NaN</td>\n",
       "      <td>0</td>\n",
       "      <td>0</td>\n",
       "      <td>Children</td>\n",
       "      <td>0</td>\n",
       "      <td>NaN</td>\n",
       "      <td>Never married</td>\n",
       "      <td>NaN</td>\n",
       "      <td>NaN</td>\n",
       "      <td>...</td>\n",
       "      <td>United-States</td>\n",
       "      <td>United-States</td>\n",
       "      <td>Native- Born in the United States</td>\n",
       "      <td>0</td>\n",
       "      <td>NaN</td>\n",
       "      <td>0</td>\n",
       "      <td>0</td>\n",
       "      <td>95</td>\n",
       "      <td>0</td>\n",
       "      <td>14</td>\n",
       "    </tr>\n",
       "    <tr>\n",
       "      <th>619</th>\n",
       "      <td>4</td>\n",
       "      <td>NaN</td>\n",
       "      <td>0</td>\n",
       "      <td>0</td>\n",
       "      <td>Children</td>\n",
       "      <td>0</td>\n",
       "      <td>NaN</td>\n",
       "      <td>Never married</td>\n",
       "      <td>NaN</td>\n",
       "      <td>NaN</td>\n",
       "      <td>...</td>\n",
       "      <td>United-States</td>\n",
       "      <td>United-States</td>\n",
       "      <td>Native- Born in the United States</td>\n",
       "      <td>0</td>\n",
       "      <td>NaN</td>\n",
       "      <td>0</td>\n",
       "      <td>0</td>\n",
       "      <td>95</td>\n",
       "      <td>0</td>\n",
       "      <td>14</td>\n",
       "    </tr>\n",
       "    <tr>\n",
       "      <th>649</th>\n",
       "      <td>9</td>\n",
       "      <td>NaN</td>\n",
       "      <td>0</td>\n",
       "      <td>0</td>\n",
       "      <td>Children</td>\n",
       "      <td>0</td>\n",
       "      <td>NaN</td>\n",
       "      <td>Never married</td>\n",
       "      <td>NaN</td>\n",
       "      <td>NaN</td>\n",
       "      <td>...</td>\n",
       "      <td>United-States</td>\n",
       "      <td>United-States</td>\n",
       "      <td>Native- Born in the United States</td>\n",
       "      <td>0</td>\n",
       "      <td>NaN</td>\n",
       "      <td>0</td>\n",
       "      <td>0</td>\n",
       "      <td>95</td>\n",
       "      <td>0</td>\n",
       "      <td>14</td>\n",
       "    </tr>\n",
       "    <tr>\n",
       "      <th>663</th>\n",
       "      <td>5</td>\n",
       "      <td>NaN</td>\n",
       "      <td>0</td>\n",
       "      <td>0</td>\n",
       "      <td>Children</td>\n",
       "      <td>0</td>\n",
       "      <td>NaN</td>\n",
       "      <td>Never married</td>\n",
       "      <td>NaN</td>\n",
       "      <td>NaN</td>\n",
       "      <td>...</td>\n",
       "      <td>United-States</td>\n",
       "      <td>United-States</td>\n",
       "      <td>Native- Born in the United States</td>\n",
       "      <td>0</td>\n",
       "      <td>NaN</td>\n",
       "      <td>0</td>\n",
       "      <td>0</td>\n",
       "      <td>94</td>\n",
       "      <td>0</td>\n",
       "      <td>10</td>\n",
       "    </tr>\n",
       "    <tr>\n",
       "      <th>680</th>\n",
       "      <td>3</td>\n",
       "      <td>NaN</td>\n",
       "      <td>0</td>\n",
       "      <td>0</td>\n",
       "      <td>Children</td>\n",
       "      <td>0</td>\n",
       "      <td>NaN</td>\n",
       "      <td>Never married</td>\n",
       "      <td>NaN</td>\n",
       "      <td>NaN</td>\n",
       "      <td>...</td>\n",
       "      <td>United-States</td>\n",
       "      <td>United-States</td>\n",
       "      <td>Native- Born in the United States</td>\n",
       "      <td>0</td>\n",
       "      <td>NaN</td>\n",
       "      <td>0</td>\n",
       "      <td>0</td>\n",
       "      <td>95</td>\n",
       "      <td>0</td>\n",
       "      <td>14</td>\n",
       "    </tr>\n",
       "    <tr>\n",
       "      <th>691</th>\n",
       "      <td>10</td>\n",
       "      <td>NaN</td>\n",
       "      <td>0</td>\n",
       "      <td>0</td>\n",
       "      <td>Children</td>\n",
       "      <td>0</td>\n",
       "      <td>NaN</td>\n",
       "      <td>Never married</td>\n",
       "      <td>NaN</td>\n",
       "      <td>NaN</td>\n",
       "      <td>...</td>\n",
       "      <td>United-States</td>\n",
       "      <td>United-States</td>\n",
       "      <td>Native- Born in the United States</td>\n",
       "      <td>0</td>\n",
       "      <td>NaN</td>\n",
       "      <td>0</td>\n",
       "      <td>0</td>\n",
       "      <td>94</td>\n",
       "      <td>0</td>\n",
       "      <td>10</td>\n",
       "    </tr>\n",
       "    <tr>\n",
       "      <th>702</th>\n",
       "      <td>0</td>\n",
       "      <td>NaN</td>\n",
       "      <td>0</td>\n",
       "      <td>0</td>\n",
       "      <td>Children</td>\n",
       "      <td>0</td>\n",
       "      <td>NaN</td>\n",
       "      <td>Never married</td>\n",
       "      <td>NaN</td>\n",
       "      <td>NaN</td>\n",
       "      <td>...</td>\n",
       "      <td>United-States</td>\n",
       "      <td>United-States</td>\n",
       "      <td>Native- Born in the United States</td>\n",
       "      <td>0</td>\n",
       "      <td>NaN</td>\n",
       "      <td>0</td>\n",
       "      <td>0</td>\n",
       "      <td>95</td>\n",
       "      <td>0</td>\n",
       "      <td>14</td>\n",
       "    </tr>\n",
       "    <tr>\n",
       "      <th>708</th>\n",
       "      <td>0</td>\n",
       "      <td>NaN</td>\n",
       "      <td>0</td>\n",
       "      <td>0</td>\n",
       "      <td>Children</td>\n",
       "      <td>0</td>\n",
       "      <td>NaN</td>\n",
       "      <td>Never married</td>\n",
       "      <td>NaN</td>\n",
       "      <td>NaN</td>\n",
       "      <td>...</td>\n",
       "      <td>United-States</td>\n",
       "      <td>United-States</td>\n",
       "      <td>Native- Born in the United States</td>\n",
       "      <td>0</td>\n",
       "      <td>NaN</td>\n",
       "      <td>0</td>\n",
       "      <td>0</td>\n",
       "      <td>94</td>\n",
       "      <td>0</td>\n",
       "      <td>14</td>\n",
       "    </tr>\n",
       "    <tr>\n",
       "      <th>710</th>\n",
       "      <td>10</td>\n",
       "      <td>NaN</td>\n",
       "      <td>0</td>\n",
       "      <td>0</td>\n",
       "      <td>Children</td>\n",
       "      <td>0</td>\n",
       "      <td>NaN</td>\n",
       "      <td>Never married</td>\n",
       "      <td>NaN</td>\n",
       "      <td>NaN</td>\n",
       "      <td>...</td>\n",
       "      <td>United-States</td>\n",
       "      <td>United-States</td>\n",
       "      <td>Native- Born in the United States</td>\n",
       "      <td>0</td>\n",
       "      <td>NaN</td>\n",
       "      <td>0</td>\n",
       "      <td>0</td>\n",
       "      <td>94</td>\n",
       "      <td>0</td>\n",
       "      <td>10</td>\n",
       "    </tr>\n",
       "    <tr>\n",
       "      <th>731</th>\n",
       "      <td>10</td>\n",
       "      <td>NaN</td>\n",
       "      <td>0</td>\n",
       "      <td>0</td>\n",
       "      <td>Children</td>\n",
       "      <td>0</td>\n",
       "      <td>NaN</td>\n",
       "      <td>Never married</td>\n",
       "      <td>NaN</td>\n",
       "      <td>NaN</td>\n",
       "      <td>...</td>\n",
       "      <td>United-States</td>\n",
       "      <td>United-States</td>\n",
       "      <td>Native- Born in the United States</td>\n",
       "      <td>0</td>\n",
       "      <td>NaN</td>\n",
       "      <td>0</td>\n",
       "      <td>0</td>\n",
       "      <td>94</td>\n",
       "      <td>0</td>\n",
       "      <td>10</td>\n",
       "    </tr>\n",
       "    <tr>\n",
       "      <th>736</th>\n",
       "      <td>14</td>\n",
       "      <td>NaN</td>\n",
       "      <td>0</td>\n",
       "      <td>0</td>\n",
       "      <td>Children</td>\n",
       "      <td>0</td>\n",
       "      <td>NaN</td>\n",
       "      <td>Never married</td>\n",
       "      <td>NaN</td>\n",
       "      <td>NaN</td>\n",
       "      <td>...</td>\n",
       "      <td>United-States</td>\n",
       "      <td>United-States</td>\n",
       "      <td>Native- Born in the United States</td>\n",
       "      <td>0</td>\n",
       "      <td>NaN</td>\n",
       "      <td>0</td>\n",
       "      <td>0</td>\n",
       "      <td>94</td>\n",
       "      <td>0</td>\n",
       "      <td>10</td>\n",
       "    </tr>\n",
       "    <tr>\n",
       "      <th>737</th>\n",
       "      <td>2</td>\n",
       "      <td>NaN</td>\n",
       "      <td>0</td>\n",
       "      <td>0</td>\n",
       "      <td>Children</td>\n",
       "      <td>0</td>\n",
       "      <td>NaN</td>\n",
       "      <td>Never married</td>\n",
       "      <td>NaN</td>\n",
       "      <td>NaN</td>\n",
       "      <td>...</td>\n",
       "      <td>United-States</td>\n",
       "      <td>United-States</td>\n",
       "      <td>Native- Born in the United States</td>\n",
       "      <td>0</td>\n",
       "      <td>NaN</td>\n",
       "      <td>0</td>\n",
       "      <td>0</td>\n",
       "      <td>94</td>\n",
       "      <td>0</td>\n",
       "      <td>10</td>\n",
       "    </tr>\n",
       "    <tr>\n",
       "      <th>...</th>\n",
       "      <td>...</td>\n",
       "      <td>...</td>\n",
       "      <td>...</td>\n",
       "      <td>...</td>\n",
       "      <td>...</td>\n",
       "      <td>...</td>\n",
       "      <td>...</td>\n",
       "      <td>...</td>\n",
       "      <td>...</td>\n",
       "      <td>...</td>\n",
       "      <td>...</td>\n",
       "      <td>...</td>\n",
       "      <td>...</td>\n",
       "      <td>...</td>\n",
       "      <td>...</td>\n",
       "      <td>...</td>\n",
       "      <td>...</td>\n",
       "      <td>...</td>\n",
       "      <td>...</td>\n",
       "      <td>...</td>\n",
       "      <td>...</td>\n",
       "    </tr>\n",
       "    <tr>\n",
       "      <th>199414</th>\n",
       "      <td>1</td>\n",
       "      <td>NaN</td>\n",
       "      <td>0</td>\n",
       "      <td>0</td>\n",
       "      <td>Children</td>\n",
       "      <td>0</td>\n",
       "      <td>NaN</td>\n",
       "      <td>Never married</td>\n",
       "      <td>NaN</td>\n",
       "      <td>NaN</td>\n",
       "      <td>...</td>\n",
       "      <td>United-States</td>\n",
       "      <td>United-States</td>\n",
       "      <td>Native- Born in the United States</td>\n",
       "      <td>0</td>\n",
       "      <td>NaN</td>\n",
       "      <td>0</td>\n",
       "      <td>0</td>\n",
       "      <td>95</td>\n",
       "      <td>0</td>\n",
       "      <td>14</td>\n",
       "    </tr>\n",
       "    <tr>\n",
       "      <th>199415</th>\n",
       "      <td>7</td>\n",
       "      <td>NaN</td>\n",
       "      <td>0</td>\n",
       "      <td>0</td>\n",
       "      <td>Children</td>\n",
       "      <td>0</td>\n",
       "      <td>NaN</td>\n",
       "      <td>Never married</td>\n",
       "      <td>NaN</td>\n",
       "      <td>NaN</td>\n",
       "      <td>...</td>\n",
       "      <td>Philippines</td>\n",
       "      <td>United-States</td>\n",
       "      <td>Native- Born in the United States</td>\n",
       "      <td>0</td>\n",
       "      <td>NaN</td>\n",
       "      <td>0</td>\n",
       "      <td>0</td>\n",
       "      <td>95</td>\n",
       "      <td>0</td>\n",
       "      <td>14</td>\n",
       "    </tr>\n",
       "    <tr>\n",
       "      <th>199418</th>\n",
       "      <td>9</td>\n",
       "      <td>NaN</td>\n",
       "      <td>0</td>\n",
       "      <td>0</td>\n",
       "      <td>Children</td>\n",
       "      <td>0</td>\n",
       "      <td>NaN</td>\n",
       "      <td>Never married</td>\n",
       "      <td>NaN</td>\n",
       "      <td>NaN</td>\n",
       "      <td>...</td>\n",
       "      <td>United-States</td>\n",
       "      <td>United-States</td>\n",
       "      <td>Native- Born in the United States</td>\n",
       "      <td>0</td>\n",
       "      <td>NaN</td>\n",
       "      <td>0</td>\n",
       "      <td>0</td>\n",
       "      <td>94</td>\n",
       "      <td>0</td>\n",
       "      <td>10</td>\n",
       "    </tr>\n",
       "    <tr>\n",
       "      <th>199419</th>\n",
       "      <td>12</td>\n",
       "      <td>NaN</td>\n",
       "      <td>0</td>\n",
       "      <td>0</td>\n",
       "      <td>Children</td>\n",
       "      <td>0</td>\n",
       "      <td>NaN</td>\n",
       "      <td>Never married</td>\n",
       "      <td>NaN</td>\n",
       "      <td>NaN</td>\n",
       "      <td>...</td>\n",
       "      <td>NaN</td>\n",
       "      <td>United-States</td>\n",
       "      <td>Native- Born in the United States</td>\n",
       "      <td>0</td>\n",
       "      <td>NaN</td>\n",
       "      <td>0</td>\n",
       "      <td>0</td>\n",
       "      <td>95</td>\n",
       "      <td>0</td>\n",
       "      <td>16</td>\n",
       "    </tr>\n",
       "    <tr>\n",
       "      <th>199420</th>\n",
       "      <td>7</td>\n",
       "      <td>NaN</td>\n",
       "      <td>0</td>\n",
       "      <td>0</td>\n",
       "      <td>Children</td>\n",
       "      <td>0</td>\n",
       "      <td>NaN</td>\n",
       "      <td>Never married</td>\n",
       "      <td>NaN</td>\n",
       "      <td>NaN</td>\n",
       "      <td>...</td>\n",
       "      <td>United-States</td>\n",
       "      <td>United-States</td>\n",
       "      <td>Native- Born in the United States</td>\n",
       "      <td>0</td>\n",
       "      <td>NaN</td>\n",
       "      <td>0</td>\n",
       "      <td>0</td>\n",
       "      <td>95</td>\n",
       "      <td>0</td>\n",
       "      <td>14</td>\n",
       "    </tr>\n",
       "    <tr>\n",
       "      <th>199424</th>\n",
       "      <td>13</td>\n",
       "      <td>NaN</td>\n",
       "      <td>0</td>\n",
       "      <td>0</td>\n",
       "      <td>Children</td>\n",
       "      <td>0</td>\n",
       "      <td>NaN</td>\n",
       "      <td>Never married</td>\n",
       "      <td>NaN</td>\n",
       "      <td>NaN</td>\n",
       "      <td>...</td>\n",
       "      <td>United-States</td>\n",
       "      <td>United-States</td>\n",
       "      <td>Native- Born in the United States</td>\n",
       "      <td>0</td>\n",
       "      <td>NaN</td>\n",
       "      <td>0</td>\n",
       "      <td>0</td>\n",
       "      <td>94</td>\n",
       "      <td>0</td>\n",
       "      <td>10</td>\n",
       "    </tr>\n",
       "    <tr>\n",
       "      <th>199426</th>\n",
       "      <td>6</td>\n",
       "      <td>NaN</td>\n",
       "      <td>0</td>\n",
       "      <td>0</td>\n",
       "      <td>Children</td>\n",
       "      <td>0</td>\n",
       "      <td>NaN</td>\n",
       "      <td>Never married</td>\n",
       "      <td>NaN</td>\n",
       "      <td>NaN</td>\n",
       "      <td>...</td>\n",
       "      <td>United-States</td>\n",
       "      <td>United-States</td>\n",
       "      <td>Native- Born in the United States</td>\n",
       "      <td>0</td>\n",
       "      <td>NaN</td>\n",
       "      <td>0</td>\n",
       "      <td>0</td>\n",
       "      <td>95</td>\n",
       "      <td>0</td>\n",
       "      <td>14</td>\n",
       "    </tr>\n",
       "    <tr>\n",
       "      <th>199427</th>\n",
       "      <td>69</td>\n",
       "      <td>NaN</td>\n",
       "      <td>0</td>\n",
       "      <td>0</td>\n",
       "      <td>Associates degree-occup /vocational</td>\n",
       "      <td>0</td>\n",
       "      <td>NaN</td>\n",
       "      <td>Married-civilian spouse present</td>\n",
       "      <td>NaN</td>\n",
       "      <td>NaN</td>\n",
       "      <td>...</td>\n",
       "      <td>United-States</td>\n",
       "      <td>United-States</td>\n",
       "      <td>Native- Born in the United States</td>\n",
       "      <td>0</td>\n",
       "      <td>NaN</td>\n",
       "      <td>2</td>\n",
       "      <td>0</td>\n",
       "      <td>94</td>\n",
       "      <td>0</td>\n",
       "      <td>11</td>\n",
       "    </tr>\n",
       "    <tr>\n",
       "      <th>199437</th>\n",
       "      <td>2</td>\n",
       "      <td>NaN</td>\n",
       "      <td>0</td>\n",
       "      <td>0</td>\n",
       "      <td>Children</td>\n",
       "      <td>0</td>\n",
       "      <td>NaN</td>\n",
       "      <td>Never married</td>\n",
       "      <td>NaN</td>\n",
       "      <td>NaN</td>\n",
       "      <td>...</td>\n",
       "      <td>United-States</td>\n",
       "      <td>United-States</td>\n",
       "      <td>Native- Born in the United States</td>\n",
       "      <td>0</td>\n",
       "      <td>NaN</td>\n",
       "      <td>0</td>\n",
       "      <td>0</td>\n",
       "      <td>94</td>\n",
       "      <td>0</td>\n",
       "      <td>7</td>\n",
       "    </tr>\n",
       "    <tr>\n",
       "      <th>199444</th>\n",
       "      <td>13</td>\n",
       "      <td>NaN</td>\n",
       "      <td>0</td>\n",
       "      <td>0</td>\n",
       "      <td>Children</td>\n",
       "      <td>0</td>\n",
       "      <td>NaN</td>\n",
       "      <td>Never married</td>\n",
       "      <td>NaN</td>\n",
       "      <td>NaN</td>\n",
       "      <td>...</td>\n",
       "      <td>United-States</td>\n",
       "      <td>United-States</td>\n",
       "      <td>Native- Born in the United States</td>\n",
       "      <td>0</td>\n",
       "      <td>NaN</td>\n",
       "      <td>0</td>\n",
       "      <td>0</td>\n",
       "      <td>95</td>\n",
       "      <td>0</td>\n",
       "      <td>14</td>\n",
       "    </tr>\n",
       "    <tr>\n",
       "      <th>199446</th>\n",
       "      <td>0</td>\n",
       "      <td>NaN</td>\n",
       "      <td>0</td>\n",
       "      <td>0</td>\n",
       "      <td>Children</td>\n",
       "      <td>0</td>\n",
       "      <td>NaN</td>\n",
       "      <td>Never married</td>\n",
       "      <td>NaN</td>\n",
       "      <td>NaN</td>\n",
       "      <td>...</td>\n",
       "      <td>United-States</td>\n",
       "      <td>United-States</td>\n",
       "      <td>Native- Born in the United States</td>\n",
       "      <td>0</td>\n",
       "      <td>NaN</td>\n",
       "      <td>0</td>\n",
       "      <td>0</td>\n",
       "      <td>94</td>\n",
       "      <td>0</td>\n",
       "      <td>14</td>\n",
       "    </tr>\n",
       "    <tr>\n",
       "      <th>199448</th>\n",
       "      <td>11</td>\n",
       "      <td>NaN</td>\n",
       "      <td>0</td>\n",
       "      <td>0</td>\n",
       "      <td>Children</td>\n",
       "      <td>0</td>\n",
       "      <td>NaN</td>\n",
       "      <td>Never married</td>\n",
       "      <td>NaN</td>\n",
       "      <td>NaN</td>\n",
       "      <td>...</td>\n",
       "      <td>United-States</td>\n",
       "      <td>United-States</td>\n",
       "      <td>Native- Born in the United States</td>\n",
       "      <td>0</td>\n",
       "      <td>NaN</td>\n",
       "      <td>0</td>\n",
       "      <td>0</td>\n",
       "      <td>94</td>\n",
       "      <td>0</td>\n",
       "      <td>10</td>\n",
       "    </tr>\n",
       "    <tr>\n",
       "      <th>199453</th>\n",
       "      <td>13</td>\n",
       "      <td>NaN</td>\n",
       "      <td>0</td>\n",
       "      <td>0</td>\n",
       "      <td>Children</td>\n",
       "      <td>0</td>\n",
       "      <td>NaN</td>\n",
       "      <td>Never married</td>\n",
       "      <td>NaN</td>\n",
       "      <td>NaN</td>\n",
       "      <td>...</td>\n",
       "      <td>United-States</td>\n",
       "      <td>United-States</td>\n",
       "      <td>Native- Born in the United States</td>\n",
       "      <td>0</td>\n",
       "      <td>NaN</td>\n",
       "      <td>0</td>\n",
       "      <td>0</td>\n",
       "      <td>94</td>\n",
       "      <td>0</td>\n",
       "      <td>10</td>\n",
       "    </tr>\n",
       "    <tr>\n",
       "      <th>199458</th>\n",
       "      <td>47</td>\n",
       "      <td>NaN</td>\n",
       "      <td>0</td>\n",
       "      <td>0</td>\n",
       "      <td>High school graduate</td>\n",
       "      <td>0</td>\n",
       "      <td>NaN</td>\n",
       "      <td>Married-civilian spouse present</td>\n",
       "      <td>NaN</td>\n",
       "      <td>NaN</td>\n",
       "      <td>...</td>\n",
       "      <td>United-States</td>\n",
       "      <td>United-States</td>\n",
       "      <td>Native- Born in the United States</td>\n",
       "      <td>0</td>\n",
       "      <td>NaN</td>\n",
       "      <td>2</td>\n",
       "      <td>0</td>\n",
       "      <td>95</td>\n",
       "      <td>0</td>\n",
       "      <td>15</td>\n",
       "    </tr>\n",
       "    <tr>\n",
       "      <th>199464</th>\n",
       "      <td>51</td>\n",
       "      <td>NaN</td>\n",
       "      <td>0</td>\n",
       "      <td>0</td>\n",
       "      <td>High school graduate</td>\n",
       "      <td>0</td>\n",
       "      <td>NaN</td>\n",
       "      <td>Married-civilian spouse present</td>\n",
       "      <td>NaN</td>\n",
       "      <td>NaN</td>\n",
       "      <td>...</td>\n",
       "      <td>United-States</td>\n",
       "      <td>United-States</td>\n",
       "      <td>Native- Born in the United States</td>\n",
       "      <td>0</td>\n",
       "      <td>NaN</td>\n",
       "      <td>2</td>\n",
       "      <td>0</td>\n",
       "      <td>94</td>\n",
       "      <td>0</td>\n",
       "      <td>11</td>\n",
       "    </tr>\n",
       "    <tr>\n",
       "      <th>199465</th>\n",
       "      <td>4</td>\n",
       "      <td>NaN</td>\n",
       "      <td>0</td>\n",
       "      <td>0</td>\n",
       "      <td>Children</td>\n",
       "      <td>0</td>\n",
       "      <td>NaN</td>\n",
       "      <td>Never married</td>\n",
       "      <td>NaN</td>\n",
       "      <td>NaN</td>\n",
       "      <td>...</td>\n",
       "      <td>United-States</td>\n",
       "      <td>United-States</td>\n",
       "      <td>Native- Born in the United States</td>\n",
       "      <td>0</td>\n",
       "      <td>NaN</td>\n",
       "      <td>0</td>\n",
       "      <td>0</td>\n",
       "      <td>95</td>\n",
       "      <td>0</td>\n",
       "      <td>14</td>\n",
       "    </tr>\n",
       "    <tr>\n",
       "      <th>199468</th>\n",
       "      <td>5</td>\n",
       "      <td>NaN</td>\n",
       "      <td>0</td>\n",
       "      <td>0</td>\n",
       "      <td>Children</td>\n",
       "      <td>0</td>\n",
       "      <td>NaN</td>\n",
       "      <td>Never married</td>\n",
       "      <td>NaN</td>\n",
       "      <td>NaN</td>\n",
       "      <td>...</td>\n",
       "      <td>United-States</td>\n",
       "      <td>United-States</td>\n",
       "      <td>Native- Born in the United States</td>\n",
       "      <td>0</td>\n",
       "      <td>NaN</td>\n",
       "      <td>0</td>\n",
       "      <td>0</td>\n",
       "      <td>95</td>\n",
       "      <td>0</td>\n",
       "      <td>14</td>\n",
       "    </tr>\n",
       "    <tr>\n",
       "      <th>199469</th>\n",
       "      <td>15</td>\n",
       "      <td>NaN</td>\n",
       "      <td>0</td>\n",
       "      <td>0</td>\n",
       "      <td>9th grade</td>\n",
       "      <td>0</td>\n",
       "      <td>NaN</td>\n",
       "      <td>Never married</td>\n",
       "      <td>NaN</td>\n",
       "      <td>NaN</td>\n",
       "      <td>...</td>\n",
       "      <td>Mexico</td>\n",
       "      <td>United-States</td>\n",
       "      <td>Native- Born in the United States</td>\n",
       "      <td>0</td>\n",
       "      <td>NaN</td>\n",
       "      <td>2</td>\n",
       "      <td>0</td>\n",
       "      <td>95</td>\n",
       "      <td>0</td>\n",
       "      <td>14</td>\n",
       "    </tr>\n",
       "    <tr>\n",
       "      <th>199472</th>\n",
       "      <td>27</td>\n",
       "      <td>NaN</td>\n",
       "      <td>0</td>\n",
       "      <td>0</td>\n",
       "      <td>High school graduate</td>\n",
       "      <td>0</td>\n",
       "      <td>NaN</td>\n",
       "      <td>Married-civilian spouse present</td>\n",
       "      <td>NaN</td>\n",
       "      <td>NaN</td>\n",
       "      <td>...</td>\n",
       "      <td>United-States</td>\n",
       "      <td>United-States</td>\n",
       "      <td>Native- Born in the United States</td>\n",
       "      <td>0</td>\n",
       "      <td>NaN</td>\n",
       "      <td>2</td>\n",
       "      <td>0</td>\n",
       "      <td>95</td>\n",
       "      <td>0</td>\n",
       "      <td>15</td>\n",
       "    </tr>\n",
       "    <tr>\n",
       "      <th>199473</th>\n",
       "      <td>70</td>\n",
       "      <td>NaN</td>\n",
       "      <td>0</td>\n",
       "      <td>0</td>\n",
       "      <td>High school graduate</td>\n",
       "      <td>0</td>\n",
       "      <td>NaN</td>\n",
       "      <td>Married-civilian spouse present</td>\n",
       "      <td>NaN</td>\n",
       "      <td>NaN</td>\n",
       "      <td>...</td>\n",
       "      <td>United-States</td>\n",
       "      <td>United-States</td>\n",
       "      <td>Native- Born in the United States</td>\n",
       "      <td>0</td>\n",
       "      <td>NaN</td>\n",
       "      <td>2</td>\n",
       "      <td>0</td>\n",
       "      <td>94</td>\n",
       "      <td>0</td>\n",
       "      <td>11</td>\n",
       "    </tr>\n",
       "    <tr>\n",
       "      <th>199475</th>\n",
       "      <td>77</td>\n",
       "      <td>NaN</td>\n",
       "      <td>0</td>\n",
       "      <td>0</td>\n",
       "      <td>High school graduate</td>\n",
       "      <td>0</td>\n",
       "      <td>NaN</td>\n",
       "      <td>Married-civilian spouse present</td>\n",
       "      <td>NaN</td>\n",
       "      <td>NaN</td>\n",
       "      <td>...</td>\n",
       "      <td>United-States</td>\n",
       "      <td>United-States</td>\n",
       "      <td>Native- Born in the United States</td>\n",
       "      <td>0</td>\n",
       "      <td>NaN</td>\n",
       "      <td>2</td>\n",
       "      <td>0</td>\n",
       "      <td>94</td>\n",
       "      <td>0</td>\n",
       "      <td>11</td>\n",
       "    </tr>\n",
       "    <tr>\n",
       "      <th>199477</th>\n",
       "      <td>50</td>\n",
       "      <td>NaN</td>\n",
       "      <td>0</td>\n",
       "      <td>0</td>\n",
       "      <td>High school graduate</td>\n",
       "      <td>0</td>\n",
       "      <td>NaN</td>\n",
       "      <td>Married-civilian spouse present</td>\n",
       "      <td>NaN</td>\n",
       "      <td>NaN</td>\n",
       "      <td>...</td>\n",
       "      <td>United-States</td>\n",
       "      <td>United-States</td>\n",
       "      <td>Native- Born in the United States</td>\n",
       "      <td>0</td>\n",
       "      <td>NaN</td>\n",
       "      <td>2</td>\n",
       "      <td>0</td>\n",
       "      <td>94</td>\n",
       "      <td>0</td>\n",
       "      <td>11</td>\n",
       "    </tr>\n",
       "    <tr>\n",
       "      <th>199480</th>\n",
       "      <td>9</td>\n",
       "      <td>NaN</td>\n",
       "      <td>0</td>\n",
       "      <td>0</td>\n",
       "      <td>Children</td>\n",
       "      <td>0</td>\n",
       "      <td>NaN</td>\n",
       "      <td>Never married</td>\n",
       "      <td>NaN</td>\n",
       "      <td>NaN</td>\n",
       "      <td>...</td>\n",
       "      <td>United-States</td>\n",
       "      <td>United-States</td>\n",
       "      <td>Native- Born in the United States</td>\n",
       "      <td>0</td>\n",
       "      <td>NaN</td>\n",
       "      <td>0</td>\n",
       "      <td>0</td>\n",
       "      <td>94</td>\n",
       "      <td>0</td>\n",
       "      <td>10</td>\n",
       "    </tr>\n",
       "    <tr>\n",
       "      <th>199493</th>\n",
       "      <td>13</td>\n",
       "      <td>NaN</td>\n",
       "      <td>0</td>\n",
       "      <td>0</td>\n",
       "      <td>Children</td>\n",
       "      <td>0</td>\n",
       "      <td>NaN</td>\n",
       "      <td>Never married</td>\n",
       "      <td>NaN</td>\n",
       "      <td>NaN</td>\n",
       "      <td>...</td>\n",
       "      <td>United-States</td>\n",
       "      <td>United-States</td>\n",
       "      <td>Native- Born in the United States</td>\n",
       "      <td>0</td>\n",
       "      <td>NaN</td>\n",
       "      <td>0</td>\n",
       "      <td>0</td>\n",
       "      <td>94</td>\n",
       "      <td>0</td>\n",
       "      <td>10</td>\n",
       "    </tr>\n",
       "    <tr>\n",
       "      <th>199494</th>\n",
       "      <td>5</td>\n",
       "      <td>NaN</td>\n",
       "      <td>0</td>\n",
       "      <td>0</td>\n",
       "      <td>Children</td>\n",
       "      <td>0</td>\n",
       "      <td>NaN</td>\n",
       "      <td>Never married</td>\n",
       "      <td>NaN</td>\n",
       "      <td>NaN</td>\n",
       "      <td>...</td>\n",
       "      <td>United-States</td>\n",
       "      <td>United-States</td>\n",
       "      <td>Native- Born in the United States</td>\n",
       "      <td>0</td>\n",
       "      <td>NaN</td>\n",
       "      <td>0</td>\n",
       "      <td>0</td>\n",
       "      <td>94</td>\n",
       "      <td>0</td>\n",
       "      <td>10</td>\n",
       "    </tr>\n",
       "    <tr>\n",
       "      <th>199496</th>\n",
       "      <td>1</td>\n",
       "      <td>NaN</td>\n",
       "      <td>0</td>\n",
       "      <td>0</td>\n",
       "      <td>Children</td>\n",
       "      <td>0</td>\n",
       "      <td>NaN</td>\n",
       "      <td>Never married</td>\n",
       "      <td>NaN</td>\n",
       "      <td>NaN</td>\n",
       "      <td>...</td>\n",
       "      <td>United-States</td>\n",
       "      <td>United-States</td>\n",
       "      <td>Native- Born in the United States</td>\n",
       "      <td>0</td>\n",
       "      <td>NaN</td>\n",
       "      <td>0</td>\n",
       "      <td>0</td>\n",
       "      <td>94</td>\n",
       "      <td>0</td>\n",
       "      <td>10</td>\n",
       "    </tr>\n",
       "    <tr>\n",
       "      <th>199501</th>\n",
       "      <td>13</td>\n",
       "      <td>NaN</td>\n",
       "      <td>0</td>\n",
       "      <td>0</td>\n",
       "      <td>Children</td>\n",
       "      <td>0</td>\n",
       "      <td>NaN</td>\n",
       "      <td>Never married</td>\n",
       "      <td>NaN</td>\n",
       "      <td>NaN</td>\n",
       "      <td>...</td>\n",
       "      <td>United-States</td>\n",
       "      <td>United-States</td>\n",
       "      <td>Native- Born in the United States</td>\n",
       "      <td>0</td>\n",
       "      <td>NaN</td>\n",
       "      <td>0</td>\n",
       "      <td>0</td>\n",
       "      <td>94</td>\n",
       "      <td>0</td>\n",
       "      <td>10</td>\n",
       "    </tr>\n",
       "    <tr>\n",
       "      <th>199506</th>\n",
       "      <td>14</td>\n",
       "      <td>NaN</td>\n",
       "      <td>0</td>\n",
       "      <td>0</td>\n",
       "      <td>Children</td>\n",
       "      <td>0</td>\n",
       "      <td>NaN</td>\n",
       "      <td>Never married</td>\n",
       "      <td>NaN</td>\n",
       "      <td>NaN</td>\n",
       "      <td>...</td>\n",
       "      <td>United-States</td>\n",
       "      <td>United-States</td>\n",
       "      <td>Native- Born in the United States</td>\n",
       "      <td>0</td>\n",
       "      <td>NaN</td>\n",
       "      <td>0</td>\n",
       "      <td>0</td>\n",
       "      <td>94</td>\n",
       "      <td>0</td>\n",
       "      <td>10</td>\n",
       "    </tr>\n",
       "    <tr>\n",
       "      <th>199512</th>\n",
       "      <td>71</td>\n",
       "      <td>NaN</td>\n",
       "      <td>0</td>\n",
       "      <td>0</td>\n",
       "      <td>High school graduate</td>\n",
       "      <td>0</td>\n",
       "      <td>NaN</td>\n",
       "      <td>Married-civilian spouse present</td>\n",
       "      <td>NaN</td>\n",
       "      <td>NaN</td>\n",
       "      <td>...</td>\n",
       "      <td>United-States</td>\n",
       "      <td>United-States</td>\n",
       "      <td>Native- Born in the United States</td>\n",
       "      <td>0</td>\n",
       "      <td>NaN</td>\n",
       "      <td>2</td>\n",
       "      <td>0</td>\n",
       "      <td>95</td>\n",
       "      <td>0</td>\n",
       "      <td>15</td>\n",
       "    </tr>\n",
       "    <tr>\n",
       "      <th>199521</th>\n",
       "      <td>16</td>\n",
       "      <td>NaN</td>\n",
       "      <td>0</td>\n",
       "      <td>0</td>\n",
       "      <td>10th grade</td>\n",
       "      <td>0</td>\n",
       "      <td>High school</td>\n",
       "      <td>Never married</td>\n",
       "      <td>NaN</td>\n",
       "      <td>NaN</td>\n",
       "      <td>...</td>\n",
       "      <td>United-States</td>\n",
       "      <td>United-States</td>\n",
       "      <td>Native- Born in the United States</td>\n",
       "      <td>0</td>\n",
       "      <td>NaN</td>\n",
       "      <td>2</td>\n",
       "      <td>0</td>\n",
       "      <td>95</td>\n",
       "      <td>0</td>\n",
       "      <td>13</td>\n",
       "    </tr>\n",
       "  </tbody>\n",
       "</table>\n",
       "<p>46627 rows × 42 columns</p>\n",
       "</div>"
      ],
      "text/plain": [
       "        age class of worker  detailed industry record  \\\n",
       "121       2             NaN                         0   \n",
       "226       6             NaN                         0   \n",
       "243       3             NaN                         0   \n",
       "305      10             NaN                         0   \n",
       "344       1             NaN                         0   \n",
       "353      12             NaN                         0   \n",
       "359      12             NaN                         0   \n",
       "382       1             NaN                         0   \n",
       "405      15             NaN                         0   \n",
       "422       0             NaN                         0   \n",
       "438      10             NaN                         0   \n",
       "450       3             NaN                         0   \n",
       "482      11             NaN                         0   \n",
       "519       7             NaN                         0   \n",
       "550       6             NaN                         0   \n",
       "567       0             NaN                         0   \n",
       "575       1             NaN                         0   \n",
       "599      10             NaN                         0   \n",
       "614       5             NaN                         0   \n",
       "619       4             NaN                         0   \n",
       "649       9             NaN                         0   \n",
       "663       5             NaN                         0   \n",
       "680       3             NaN                         0   \n",
       "691      10             NaN                         0   \n",
       "702       0             NaN                         0   \n",
       "708       0             NaN                         0   \n",
       "710      10             NaN                         0   \n",
       "731      10             NaN                         0   \n",
       "736      14             NaN                         0   \n",
       "737       2             NaN                         0   \n",
       "...     ...             ...                       ...   \n",
       "199414    1             NaN                         0   \n",
       "199415    7             NaN                         0   \n",
       "199418    9             NaN                         0   \n",
       "199419   12             NaN                         0   \n",
       "199420    7             NaN                         0   \n",
       "199424   13             NaN                         0   \n",
       "199426    6             NaN                         0   \n",
       "199427   69             NaN                         0   \n",
       "199437    2             NaN                         0   \n",
       "199444   13             NaN                         0   \n",
       "199446    0             NaN                         0   \n",
       "199448   11             NaN                         0   \n",
       "199453   13             NaN                         0   \n",
       "199458   47             NaN                         0   \n",
       "199464   51             NaN                         0   \n",
       "199465    4             NaN                         0   \n",
       "199468    5             NaN                         0   \n",
       "199469   15             NaN                         0   \n",
       "199472   27             NaN                         0   \n",
       "199473   70             NaN                         0   \n",
       "199475   77             NaN                         0   \n",
       "199477   50             NaN                         0   \n",
       "199480    9             NaN                         0   \n",
       "199493   13             NaN                         0   \n",
       "199494    5             NaN                         0   \n",
       "199496    1             NaN                         0   \n",
       "199501   13             NaN                         0   \n",
       "199506   14             NaN                         0   \n",
       "199512   71             NaN                         0   \n",
       "199521   16             NaN                         0   \n",
       "\n",
       "        detailed occupation record                             education  \\\n",
       "121                              0                              Children   \n",
       "226                              0                              Children   \n",
       "243                              0                              Children   \n",
       "305                              0                              Children   \n",
       "344                              0                              Children   \n",
       "353                              0                              Children   \n",
       "359                              0                              Children   \n",
       "382                              0                              Children   \n",
       "405                              0                     7th and 8th grade   \n",
       "422                              0                              Children   \n",
       "438                              0                              Children   \n",
       "450                              0                              Children   \n",
       "482                              0                              Children   \n",
       "519                              0                              Children   \n",
       "550                              0                              Children   \n",
       "567                              0                              Children   \n",
       "575                              0                              Children   \n",
       "599                              0                              Children   \n",
       "614                              0                              Children   \n",
       "619                              0                              Children   \n",
       "649                              0                              Children   \n",
       "663                              0                              Children   \n",
       "680                              0                              Children   \n",
       "691                              0                              Children   \n",
       "702                              0                              Children   \n",
       "708                              0                              Children   \n",
       "710                              0                              Children   \n",
       "731                              0                              Children   \n",
       "736                              0                              Children   \n",
       "737                              0                              Children   \n",
       "...                            ...                                   ...   \n",
       "199414                           0                              Children   \n",
       "199415                           0                              Children   \n",
       "199418                           0                              Children   \n",
       "199419                           0                              Children   \n",
       "199420                           0                              Children   \n",
       "199424                           0                              Children   \n",
       "199426                           0                              Children   \n",
       "199427                           0   Associates degree-occup /vocational   \n",
       "199437                           0                              Children   \n",
       "199444                           0                              Children   \n",
       "199446                           0                              Children   \n",
       "199448                           0                              Children   \n",
       "199453                           0                              Children   \n",
       "199458                           0                  High school graduate   \n",
       "199464                           0                  High school graduate   \n",
       "199465                           0                              Children   \n",
       "199468                           0                              Children   \n",
       "199469                           0                             9th grade   \n",
       "199472                           0                  High school graduate   \n",
       "199473                           0                  High school graduate   \n",
       "199475                           0                  High school graduate   \n",
       "199477                           0                  High school graduate   \n",
       "199480                           0                              Children   \n",
       "199493                           0                              Children   \n",
       "199494                           0                              Children   \n",
       "199496                           0                              Children   \n",
       "199501                           0                              Children   \n",
       "199506                           0                              Children   \n",
       "199512                           0                  High school graduate   \n",
       "199521                           0                            10th grade   \n",
       "\n",
       "        wage per hour enroll in edu inst last wk  \\\n",
       "121                 0                        NaN   \n",
       "226                 0                        NaN   \n",
       "243                 0                        NaN   \n",
       "305                 0                        NaN   \n",
       "344                 0                        NaN   \n",
       "353                 0                        NaN   \n",
       "359                 0                        NaN   \n",
       "382                 0                        NaN   \n",
       "405                 0                        NaN   \n",
       "422                 0                        NaN   \n",
       "438                 0                        NaN   \n",
       "450                 0                        NaN   \n",
       "482                 0                        NaN   \n",
       "519                 0                        NaN   \n",
       "550                 0                        NaN   \n",
       "567                 0                        NaN   \n",
       "575                 0                        NaN   \n",
       "599                 0                        NaN   \n",
       "614                 0                        NaN   \n",
       "619                 0                        NaN   \n",
       "649                 0                        NaN   \n",
       "663                 0                        NaN   \n",
       "680                 0                        NaN   \n",
       "691                 0                        NaN   \n",
       "702                 0                        NaN   \n",
       "708                 0                        NaN   \n",
       "710                 0                        NaN   \n",
       "731                 0                        NaN   \n",
       "736                 0                        NaN   \n",
       "737                 0                        NaN   \n",
       "...               ...                        ...   \n",
       "199414              0                        NaN   \n",
       "199415              0                        NaN   \n",
       "199418              0                        NaN   \n",
       "199419              0                        NaN   \n",
       "199420              0                        NaN   \n",
       "199424              0                        NaN   \n",
       "199426              0                        NaN   \n",
       "199427              0                        NaN   \n",
       "199437              0                        NaN   \n",
       "199444              0                        NaN   \n",
       "199446              0                        NaN   \n",
       "199448              0                        NaN   \n",
       "199453              0                        NaN   \n",
       "199458              0                        NaN   \n",
       "199464              0                        NaN   \n",
       "199465              0                        NaN   \n",
       "199468              0                        NaN   \n",
       "199469              0                        NaN   \n",
       "199472              0                        NaN   \n",
       "199473              0                        NaN   \n",
       "199475              0                        NaN   \n",
       "199477              0                        NaN   \n",
       "199480              0                        NaN   \n",
       "199493              0                        NaN   \n",
       "199494              0                        NaN   \n",
       "199496              0                        NaN   \n",
       "199501              0                        NaN   \n",
       "199506              0                        NaN   \n",
       "199512              0                        NaN   \n",
       "199521              0                High school   \n",
       "\n",
       "                            marital stat major industry code  \\\n",
       "121                        Never married                 NaN   \n",
       "226                        Never married                 NaN   \n",
       "243                        Never married                 NaN   \n",
       "305                        Never married                 NaN   \n",
       "344                        Never married                 NaN   \n",
       "353                        Never married                 NaN   \n",
       "359                        Never married                 NaN   \n",
       "382                        Never married                 NaN   \n",
       "405                        Never married                 NaN   \n",
       "422                        Never married                 NaN   \n",
       "438                        Never married                 NaN   \n",
       "450                        Never married                 NaN   \n",
       "482                        Never married                 NaN   \n",
       "519                        Never married                 NaN   \n",
       "550                        Never married                 NaN   \n",
       "567                        Never married                 NaN   \n",
       "575                        Never married                 NaN   \n",
       "599                        Never married                 NaN   \n",
       "614                        Never married                 NaN   \n",
       "619                        Never married                 NaN   \n",
       "649                        Never married                 NaN   \n",
       "663                        Never married                 NaN   \n",
       "680                        Never married                 NaN   \n",
       "691                        Never married                 NaN   \n",
       "702                        Never married                 NaN   \n",
       "708                        Never married                 NaN   \n",
       "710                        Never married                 NaN   \n",
       "731                        Never married                 NaN   \n",
       "736                        Never married                 NaN   \n",
       "737                        Never married                 NaN   \n",
       "...                                  ...                 ...   \n",
       "199414                     Never married                 NaN   \n",
       "199415                     Never married                 NaN   \n",
       "199418                     Never married                 NaN   \n",
       "199419                     Never married                 NaN   \n",
       "199420                     Never married                 NaN   \n",
       "199424                     Never married                 NaN   \n",
       "199426                     Never married                 NaN   \n",
       "199427   Married-civilian spouse present                 NaN   \n",
       "199437                     Never married                 NaN   \n",
       "199444                     Never married                 NaN   \n",
       "199446                     Never married                 NaN   \n",
       "199448                     Never married                 NaN   \n",
       "199453                     Never married                 NaN   \n",
       "199458   Married-civilian spouse present                 NaN   \n",
       "199464   Married-civilian spouse present                 NaN   \n",
       "199465                     Never married                 NaN   \n",
       "199468                     Never married                 NaN   \n",
       "199469                     Never married                 NaN   \n",
       "199472   Married-civilian spouse present                 NaN   \n",
       "199473   Married-civilian spouse present                 NaN   \n",
       "199475   Married-civilian spouse present                 NaN   \n",
       "199477   Married-civilian spouse present                 NaN   \n",
       "199480                     Never married                 NaN   \n",
       "199493                     Never married                 NaN   \n",
       "199494                     Never married                 NaN   \n",
       "199496                     Never married                 NaN   \n",
       "199501                     Never married                 NaN   \n",
       "199506                     Never married                 NaN   \n",
       "199512   Married-civilian spouse present                 NaN   \n",
       "199521                     Never married                 NaN   \n",
       "\n",
       "       major occupation code  ... country of birth mother  \\\n",
       "121                      NaN  ...           United-States   \n",
       "226                      NaN  ...           United-States   \n",
       "243                      NaN  ...           United-States   \n",
       "305                      NaN  ...           United-States   \n",
       "344                      NaN  ...           United-States   \n",
       "353                      NaN  ...           United-States   \n",
       "359                      NaN  ...           United-States   \n",
       "382                      NaN  ...           United-States   \n",
       "405                      NaN  ...           United-States   \n",
       "422                      NaN  ...           United-States   \n",
       "438                      NaN  ...           United-States   \n",
       "450                      NaN  ...           United-States   \n",
       "482                      NaN  ...           United-States   \n",
       "519                      NaN  ...           United-States   \n",
       "550                      NaN  ...           United-States   \n",
       "567                      NaN  ...           United-States   \n",
       "575                      NaN  ...           United-States   \n",
       "599                      NaN  ...           United-States   \n",
       "614                      NaN  ...           United-States   \n",
       "619                      NaN  ...           United-States   \n",
       "649                      NaN  ...           United-States   \n",
       "663                      NaN  ...           United-States   \n",
       "680                      NaN  ...           United-States   \n",
       "691                      NaN  ...           United-States   \n",
       "702                      NaN  ...           United-States   \n",
       "708                      NaN  ...           United-States   \n",
       "710                      NaN  ...           United-States   \n",
       "731                      NaN  ...           United-States   \n",
       "736                      NaN  ...           United-States   \n",
       "737                      NaN  ...           United-States   \n",
       "...                      ...  ...                     ...   \n",
       "199414                   NaN  ...           United-States   \n",
       "199415                   NaN  ...             Philippines   \n",
       "199418                   NaN  ...           United-States   \n",
       "199419                   NaN  ...                     NaN   \n",
       "199420                   NaN  ...           United-States   \n",
       "199424                   NaN  ...           United-States   \n",
       "199426                   NaN  ...           United-States   \n",
       "199427                   NaN  ...           United-States   \n",
       "199437                   NaN  ...           United-States   \n",
       "199444                   NaN  ...           United-States   \n",
       "199446                   NaN  ...           United-States   \n",
       "199448                   NaN  ...           United-States   \n",
       "199453                   NaN  ...           United-States   \n",
       "199458                   NaN  ...           United-States   \n",
       "199464                   NaN  ...           United-States   \n",
       "199465                   NaN  ...           United-States   \n",
       "199468                   NaN  ...           United-States   \n",
       "199469                   NaN  ...                  Mexico   \n",
       "199472                   NaN  ...           United-States   \n",
       "199473                   NaN  ...           United-States   \n",
       "199475                   NaN  ...           United-States   \n",
       "199477                   NaN  ...           United-States   \n",
       "199480                   NaN  ...           United-States   \n",
       "199493                   NaN  ...           United-States   \n",
       "199494                   NaN  ...           United-States   \n",
       "199496                   NaN  ...           United-States   \n",
       "199501                   NaN  ...           United-States   \n",
       "199506                   NaN  ...           United-States   \n",
       "199512                   NaN  ...           United-States   \n",
       "199521                   NaN  ...           United-States   \n",
       "\n",
       "       country of birth self                         citizenship  \\\n",
       "121            United-States   Native- Born in the United States   \n",
       "226            United-States   Native- Born in the United States   \n",
       "243            United-States   Native- Born in the United States   \n",
       "305            United-States   Native- Born in the United States   \n",
       "344            United-States   Native- Born in the United States   \n",
       "353            United-States   Native- Born in the United States   \n",
       "359            United-States   Native- Born in the United States   \n",
       "382            United-States   Native- Born in the United States   \n",
       "405            United-States   Native- Born in the United States   \n",
       "422            United-States   Native- Born in the United States   \n",
       "438            United-States   Native- Born in the United States   \n",
       "450            United-States   Native- Born in the United States   \n",
       "482            United-States   Native- Born in the United States   \n",
       "519            United-States   Native- Born in the United States   \n",
       "550            United-States   Native- Born in the United States   \n",
       "567            United-States   Native- Born in the United States   \n",
       "575            United-States   Native- Born in the United States   \n",
       "599            United-States   Native- Born in the United States   \n",
       "614            United-States   Native- Born in the United States   \n",
       "619            United-States   Native- Born in the United States   \n",
       "649            United-States   Native- Born in the United States   \n",
       "663            United-States   Native- Born in the United States   \n",
       "680            United-States   Native- Born in the United States   \n",
       "691            United-States   Native- Born in the United States   \n",
       "702            United-States   Native- Born in the United States   \n",
       "708            United-States   Native- Born in the United States   \n",
       "710            United-States   Native- Born in the United States   \n",
       "731            United-States   Native- Born in the United States   \n",
       "736            United-States   Native- Born in the United States   \n",
       "737            United-States   Native- Born in the United States   \n",
       "...                      ...                                 ...   \n",
       "199414         United-States   Native- Born in the United States   \n",
       "199415         United-States   Native- Born in the United States   \n",
       "199418         United-States   Native- Born in the United States   \n",
       "199419         United-States   Native- Born in the United States   \n",
       "199420         United-States   Native- Born in the United States   \n",
       "199424         United-States   Native- Born in the United States   \n",
       "199426         United-States   Native- Born in the United States   \n",
       "199427         United-States   Native- Born in the United States   \n",
       "199437         United-States   Native- Born in the United States   \n",
       "199444         United-States   Native- Born in the United States   \n",
       "199446         United-States   Native- Born in the United States   \n",
       "199448         United-States   Native- Born in the United States   \n",
       "199453         United-States   Native- Born in the United States   \n",
       "199458         United-States   Native- Born in the United States   \n",
       "199464         United-States   Native- Born in the United States   \n",
       "199465         United-States   Native- Born in the United States   \n",
       "199468         United-States   Native- Born in the United States   \n",
       "199469         United-States   Native- Born in the United States   \n",
       "199472         United-States   Native- Born in the United States   \n",
       "199473         United-States   Native- Born in the United States   \n",
       "199475         United-States   Native- Born in the United States   \n",
       "199477         United-States   Native- Born in the United States   \n",
       "199480         United-States   Native- Born in the United States   \n",
       "199493         United-States   Native- Born in the United States   \n",
       "199494         United-States   Native- Born in the United States   \n",
       "199496         United-States   Native- Born in the United States   \n",
       "199501         United-States   Native- Born in the United States   \n",
       "199506         United-States   Native- Born in the United States   \n",
       "199512         United-States   Native- Born in the United States   \n",
       "199521         United-States   Native- Born in the United States   \n",
       "\n",
       "       own business or self employed  \\\n",
       "121                                0   \n",
       "226                                0   \n",
       "243                                0   \n",
       "305                                0   \n",
       "344                                0   \n",
       "353                                0   \n",
       "359                                0   \n",
       "382                                0   \n",
       "405                                0   \n",
       "422                                0   \n",
       "438                                0   \n",
       "450                                0   \n",
       "482                                0   \n",
       "519                                0   \n",
       "550                                0   \n",
       "567                                0   \n",
       "575                                0   \n",
       "599                                0   \n",
       "614                                0   \n",
       "619                                0   \n",
       "649                                0   \n",
       "663                                0   \n",
       "680                                0   \n",
       "691                                0   \n",
       "702                                0   \n",
       "708                                0   \n",
       "710                                0   \n",
       "731                                0   \n",
       "736                                0   \n",
       "737                                0   \n",
       "...                              ...   \n",
       "199414                             0   \n",
       "199415                             0   \n",
       "199418                             0   \n",
       "199419                             0   \n",
       "199420                             0   \n",
       "199424                             0   \n",
       "199426                             0   \n",
       "199427                             0   \n",
       "199437                             0   \n",
       "199444                             0   \n",
       "199446                             0   \n",
       "199448                             0   \n",
       "199453                             0   \n",
       "199458                             0   \n",
       "199464                             0   \n",
       "199465                             0   \n",
       "199468                             0   \n",
       "199469                             0   \n",
       "199472                             0   \n",
       "199473                             0   \n",
       "199475                             0   \n",
       "199477                             0   \n",
       "199480                             0   \n",
       "199493                             0   \n",
       "199494                             0   \n",
       "199496                             0   \n",
       "199501                             0   \n",
       "199506                             0   \n",
       "199512                             0   \n",
       "199521                             0   \n",
       "\n",
       "       fill inc questionnaire for veterans admin veterans benefits  \\\n",
       "121                                          NaN                 0   \n",
       "226                                          NaN                 0   \n",
       "243                                          NaN                 0   \n",
       "305                                          NaN                 0   \n",
       "344                                          NaN                 0   \n",
       "353                                          NaN                 0   \n",
       "359                                          NaN                 0   \n",
       "382                                          NaN                 0   \n",
       "405                                          NaN                 2   \n",
       "422                                          NaN                 0   \n",
       "438                                          NaN                 0   \n",
       "450                                          NaN                 0   \n",
       "482                                          NaN                 0   \n",
       "519                                          NaN                 0   \n",
       "550                                          NaN                 0   \n",
       "567                                          NaN                 0   \n",
       "575                                          NaN                 0   \n",
       "599                                          NaN                 0   \n",
       "614                                          NaN                 0   \n",
       "619                                          NaN                 0   \n",
       "649                                          NaN                 0   \n",
       "663                                          NaN                 0   \n",
       "680                                          NaN                 0   \n",
       "691                                          NaN                 0   \n",
       "702                                          NaN                 0   \n",
       "708                                          NaN                 0   \n",
       "710                                          NaN                 0   \n",
       "731                                          NaN                 0   \n",
       "736                                          NaN                 0   \n",
       "737                                          NaN                 0   \n",
       "...                                          ...               ...   \n",
       "199414                                       NaN                 0   \n",
       "199415                                       NaN                 0   \n",
       "199418                                       NaN                 0   \n",
       "199419                                       NaN                 0   \n",
       "199420                                       NaN                 0   \n",
       "199424                                       NaN                 0   \n",
       "199426                                       NaN                 0   \n",
       "199427                                       NaN                 2   \n",
       "199437                                       NaN                 0   \n",
       "199444                                       NaN                 0   \n",
       "199446                                       NaN                 0   \n",
       "199448                                       NaN                 0   \n",
       "199453                                       NaN                 0   \n",
       "199458                                       NaN                 2   \n",
       "199464                                       NaN                 2   \n",
       "199465                                       NaN                 0   \n",
       "199468                                       NaN                 0   \n",
       "199469                                       NaN                 2   \n",
       "199472                                       NaN                 2   \n",
       "199473                                       NaN                 2   \n",
       "199475                                       NaN                 2   \n",
       "199477                                       NaN                 2   \n",
       "199480                                       NaN                 0   \n",
       "199493                                       NaN                 0   \n",
       "199494                                       NaN                 0   \n",
       "199496                                       NaN                 0   \n",
       "199501                                       NaN                 0   \n",
       "199506                                       NaN                 0   \n",
       "199512                                       NaN                 2   \n",
       "199521                                       NaN                 2   \n",
       "\n",
       "        weeks worked in year  year  income N_miss_val  \n",
       "121                        0    94       0         10  \n",
       "226                        0    94       0         10  \n",
       "243                        0    94       0         10  \n",
       "305                        0    95       0         14  \n",
       "344                        0    95       0         14  \n",
       "353                        0    95       0         14  \n",
       "359                        0    95       0         14  \n",
       "382                        0    95       0         14  \n",
       "405                        0    94       0         10  \n",
       "422                        0    94       0         14  \n",
       "438                        0    94       0         10  \n",
       "450                        0    94       0         10  \n",
       "482                        0    95       0         14  \n",
       "519                        0    95       0         14  \n",
       "550                        0    95       0         14  \n",
       "567                        0    95       0         14  \n",
       "575                        0    95       0         14  \n",
       "599                        0    95       0         14  \n",
       "614                        0    95       0         14  \n",
       "619                        0    95       0         14  \n",
       "649                        0    95       0         14  \n",
       "663                        0    94       0         10  \n",
       "680                        0    95       0         14  \n",
       "691                        0    94       0         10  \n",
       "702                        0    95       0         14  \n",
       "708                        0    94       0         14  \n",
       "710                        0    94       0         10  \n",
       "731                        0    94       0         10  \n",
       "736                        0    94       0         10  \n",
       "737                        0    94       0         10  \n",
       "...                      ...   ...     ...        ...  \n",
       "199414                     0    95       0         14  \n",
       "199415                     0    95       0         14  \n",
       "199418                     0    94       0         10  \n",
       "199419                     0    95       0         16  \n",
       "199420                     0    95       0         14  \n",
       "199424                     0    94       0         10  \n",
       "199426                     0    95       0         14  \n",
       "199427                     0    94       0         11  \n",
       "199437                     0    94       0          7  \n",
       "199444                     0    95       0         14  \n",
       "199446                     0    94       0         14  \n",
       "199448                     0    94       0         10  \n",
       "199453                     0    94       0         10  \n",
       "199458                     0    95       0         15  \n",
       "199464                     0    94       0         11  \n",
       "199465                     0    95       0         14  \n",
       "199468                     0    95       0         14  \n",
       "199469                     0    95       0         14  \n",
       "199472                     0    95       0         15  \n",
       "199473                     0    94       0         11  \n",
       "199475                     0    94       0         11  \n",
       "199477                     0    94       0         11  \n",
       "199480                     0    94       0         10  \n",
       "199493                     0    94       0         10  \n",
       "199494                     0    94       0         10  \n",
       "199496                     0    94       0         10  \n",
       "199501                     0    94       0         10  \n",
       "199506                     0    94       0         10  \n",
       "199512                     0    95       0         15  \n",
       "199521                     0    95       0         13  \n",
       "\n",
       "[46627 rows x 42 columns]"
      ]
     },
     "execution_count": 12,
     "metadata": {},
     "output_type": "execute_result"
    }
   ],
   "source": [
    "#display the duplicated rows. How much do they have in common?\n",
    "df[df.duplicated()]"
   ]
  },
  {
   "cell_type": "markdown",
   "metadata": {},
   "source": [
    "\n",
    "May be the duplicates are the entries lacking information? "
   ]
  },
  {
   "cell_type": "code",
   "execution_count": 13,
   "metadata": {},
   "outputs": [
    {
     "data": {
      "text/plain": [
       "14    20460\n",
       "10    15391\n",
       "15     4348\n",
       "11     4050\n",
       "13      709\n",
       "9       622\n",
       "7       402\n",
       "12      257\n",
       "8       199\n",
       "16       89\n",
       "17       74\n",
       "6        22\n",
       "18        4\n",
       "Name: N_miss_val, dtype: int64"
      ]
     },
     "execution_count": 13,
     "metadata": {},
     "output_type": "execute_result"
    }
   ],
   "source": [
    "df['N_miss_val'][df.duplicated()].value_counts()"
   ]
  },
  {
   "cell_type": "markdown",
   "metadata": {},
   "source": [
    "The majority of duplicated entries have a lot of missing values, but not the maxixmum. And this parameter varies."
   ]
  },
  {
   "cell_type": "code",
   "execution_count": 14,
   "metadata": {},
   "outputs": [
    {
     "data": {
      "text/plain": [
       " Children                                  34712\n",
       " High school graduate                       4765\n",
       " 7th and 8th grade                          1698\n",
       " Some college but no degree                 1491\n",
       " 9th grade                                  1254\n",
       " 10th grade                                 1070\n",
       " 11th grade                                  663\n",
       " Bachelors degree(BA AB BS)                  474\n",
       " 5th or 6th grade                            138\n",
       " Associates degree-occup /vocational         109\n",
       " Masters degree(MA MS MEng MEd MSW MBA)       81\n",
       " 12th grade no diploma                        67\n",
       " 1st 2nd 3rd or 4th grade                     44\n",
       " Associates degree-academic program           41\n",
       " Less than 1st grade                          17\n",
       " Prof school degree (MD DDS DVM LLB JD)        2\n",
       " Doctorate degree(PhD EdD)                     1\n",
       "Name: education, dtype: int64"
      ]
     },
     "execution_count": 14,
     "metadata": {},
     "output_type": "execute_result"
    }
   ],
   "source": [
    "#check how education is connected to the amount of missing values\n",
    "df['education'][df.duplicated()].value_counts()"
   ]
  },
  {
   "cell_type": "markdown",
   "metadata": {},
   "source": [
    "The majority of the duplicated entries are in the 'children' column. However, there are all kinds of other types in the 'education' column.\n",
    "It is reasonable that children have a lot of missing values and a similar spectrum of other features in this database, focused on education and working experience."
   ]
  },
  {
   "cell_type": "markdown",
   "metadata": {},
   "source": [
    "There is a rather big amount of duplicated rows, that  seem to represent real persons that have the same characteristics within given features. \n",
    "\n",
    "Thus by deleting the duplicates I can artificially skew the database. \n",
    "\n",
    "It can still be that the dublicates are artificial, but I see no clear way to distinguish these options. I will leave the duplicates.\n",
    "\n"
   ]
  },
  {
   "cell_type": "markdown",
   "metadata": {},
   "source": [
    "## 3) Exploratory data analysis (EDA)"
   ]
  },
  {
   "cell_type": "markdown",
   "metadata": {},
   "source": [
    "#### Feature description"
   ]
  },
  {
   "cell_type": "code",
   "execution_count": 15,
   "metadata": {},
   "outputs": [
    {
     "data": {
      "text/plain": [
       "Index(['age', 'detailed industry record', 'detailed occupation record',\n",
       "       'wage per hour', 'capital gains', 'capital losses',\n",
       "       'dividends from stocks', 'num persons worked for employer',\n",
       "       'own business or self employed', 'veterans benefits',\n",
       "       'weeks worked in year', 'year', 'income', 'N_miss_val'],\n",
       "      dtype='object')"
      ]
     },
     "execution_count": 15,
     "metadata": {},
     "output_type": "execute_result"
    }
   ],
   "source": [
    "#select numeric features\n",
    "cont_columns_idx = df.columns[df.dtypes == 'int64']\n",
    "cont_columns_idx"
   ]
  },
  {
   "cell_type": "code",
   "execution_count": 16,
   "metadata": {},
   "outputs": [
    {
     "name": "stderr",
     "output_type": "stream",
     "text": [
      "In C:\\Users\\Tanya\\Miniconda3\\envs\\exts-ml\\lib\\site-packages\\matplotlib\\mpl-data\\stylelib\\_classic_test.mplstyle: \n",
      "The savefig.frameon rcparam was deprecated in Matplotlib 3.1 and will be removed in 3.3.\n",
      "In C:\\Users\\Tanya\\Miniconda3\\envs\\exts-ml\\lib\\site-packages\\matplotlib\\mpl-data\\stylelib\\_classic_test.mplstyle: \n",
      "The verbose.level rcparam was deprecated in Matplotlib 3.1 and will be removed in 3.3.\n",
      "In C:\\Users\\Tanya\\Miniconda3\\envs\\exts-ml\\lib\\site-packages\\matplotlib\\mpl-data\\stylelib\\_classic_test.mplstyle: \n",
      "The verbose.fileo rcparam was deprecated in Matplotlib 3.1 and will be removed in 3.3.\n"
     ]
    },
    {
     "data": {
      "image/png": "[encoded data removed]",
      "text/plain": [
       "<Figure size 432x288 with 1 Axes>"
      ]
     },
     "metadata": {
      "needs_background": "light"
     },
     "output_type": "display_data"
    },
    {
     "data": {
      "image/png": "[encoded data removed]",
      "text/plain": [
       "<Figure size 432x288 with 1 Axes>"
      ]
     },
     "metadata": {
      "needs_background": "light"
     },
     "output_type": "display_data"
    },
    {
     "data": {
      "image/png": "[encoded data removed]",
      "text/plain": [
       "<Figure size 432x288 with 1 Axes>"
      ]
     },
     "metadata": {
      "needs_background": "light"
     },
     "output_type": "display_data"
    },
    {
     "data": {
      "image/png": "[encoded data removed]",
      "text/plain": [
       "<Figure size 432x288 with 1 Axes>"
      ]
     },
     "metadata": {
      "needs_background": "light"
     },
     "output_type": "display_data"
    },
    {
     "data": {
      "image/png": "[encoded data removed]",
      "text/plain": [
       "<Figure size 432x288 with 1 Axes>"
      ]
     },
     "metadata": {
      "needs_background": "light"
     },
     "output_type": "display_data"
    },
    {
     "data": {
      "image/png": "[encoded data removed]",
      "text/plain": [
       "<Figure size 432x288 with 1 Axes>"
      ]
     },
     "metadata": {
      "needs_background": "light"
     },
     "output_type": "display_data"
    },
    {
     "data": {
      "image/png": "[encoded data removed]",
      "text/plain": [
       "<Figure size 432x288 with 1 Axes>"
      ]
     },
     "metadata": {
      "needs_background": "light"
     },
     "output_type": "display_data"
    },
    {
     "data": {
      "image/png": "[encoded data removed]",
      "text/plain": [
       "<Figure size 432x288 with 1 Axes>"
      ]
     },
     "metadata": {
      "needs_background": "light"
     },
     "output_type": "display_data"
    },
    {
     "data": {
      "image/png": "[encoded data removed]",
      "text/plain": [
       "<Figure size 432x288 with 1 Axes>"
      ]
     },
     "metadata": {
      "needs_background": "light"
     },
     "output_type": "display_data"
    },
    {
     "data": {
      "image/png": "[encoded data removed]",
      "text/plain": [
       "<Figure size 432x288 with 1 Axes>"
      ]
     },
     "metadata": {
      "needs_background": "light"
     },
     "output_type": "display_data"
    },
    {
     "data": {
      "image/png": "[encoded data removed]",
      "text/plain": [
       "<Figure size 432x288 with 1 Axes>"
      ]
     },
     "metadata": {
      "needs_background": "light"
     },
     "output_type": "display_data"
    },
    {
     "data": {
      "image/png": "[encoded data removed]",
      "text/plain": [
       "<Figure size 432x288 with 1 Axes>"
      ]
     },
     "metadata": {
      "needs_background": "light"
     },
     "output_type": "display_data"
    },
    {
     "data": {
      "image/png": "[encoded data removed]",
      "text/plain": [
       "<Figure size 432x288 with 1 Axes>"
      ]
     },
     "metadata": {
      "needs_background": "light"
     },
     "output_type": "display_data"
    },
    {
     "data": {
      "image/png": "[encoded data removed]",
      "text/plain": [
       "<Figure size 432x288 with 1 Axes>"
      ]
     },
     "metadata": {
      "needs_background": "light"
     },
     "output_type": "display_data"
    }
   ],
   "source": [
    "#Now I plot a histogram of these features\n",
    "\n",
    "#import visualisation libraries\n",
    "%matplotlib inline\n",
    "import matplotlib.pyplot as plt\n",
    "import seaborn as sns\n",
    "\n",
    "#choose the numeric features\n",
    "cont_columns_idx = df.columns[df.dtypes == 'int64']\n",
    "\n",
    "#display the normalized distributions of target variable classes\n",
    "for cont_feature in cont_columns_idx:\n",
    "\n",
    "    #separate by the value of the target variable (income)\n",
    "    x= df[cont_feature][df.income == 0]\n",
    "    y= df[cont_feature][df.income == 1]\n",
    "\n",
    "\n",
    "    #normalize the distributions\n",
    "    xweights = 100 * np.ones_like(x) / x.size\n",
    "    yweights = 100 * np.ones_like(y) / y.size\n",
    "\n",
    "    fig, ax = plt.subplots()\n",
    "    ax.hist(x, weights=xweights, color='lightblue', bins = 25,  alpha=0.5)\n",
    "    ax.hist(y, weights=yweights, color='salmon', bins = 25, alpha=0.5)\n",
    "\n",
    "    ax.set(title=cont_feature, ylabel='% of Dataset in Bin')\n",
    "    ax.margins(0.05)\n",
    "    ax.set_ylim(bottom=0)\n",
    "    plt.show()"
   ]
  },
  {
   "cell_type": "markdown",
   "metadata": {},
   "source": [
    "Based on the histograms,  people that earned more than 50K per year tend to be older, have longer industry record and work in different areas, compared to people with lower income (differences in 'detailed occupational record'). They also more often work the whole year around.\n",
    "\n",
    "Also people with higher wages have more changes in capital (gains, losses, have dividends from stock). Instead of dealing with outliers in these  very sckewed distributions I plan to make binary features with a certain threshold.\n",
    "\n",
    "People with higher wages more often work in big companies or have their own busines.\n",
    "\n",
    "Suprisingly, there are differences in the number of people with high salaries from from 94 and 95 years. May be there is an inflation and may be the economy growth stronger, but still I did not expect to see a change within a year.\n"
   ]
  },
  {
   "cell_type": "markdown",
   "metadata": {},
   "source": [
    "#### Adding logarythmic features"
   ]
  },
  {
   "cell_type": "code",
   "execution_count": 17,
   "metadata": {},
   "outputs": [],
   "source": [
    "# create a list of features I want to take a logarithm of\n",
    "\n",
    "logarithm_list = ['capital gains', 'capital losses', 'dividends from stocks', 'wage per hour']"
   ]
  },
  {
   "cell_type": "code",
   "execution_count": 18,
   "metadata": {},
   "outputs": [],
   "source": [
    "# Function to add logarithmic features and to give them new names\n",
    "def create_log_features(data_df, column_list):\n",
    "    #it is very important to specify the type, by default it is int8\n",
    "    basal_log_features = data_df[column_list].values.astype(np.int64)\n",
    "    #set initial parameters to be deleted\n",
    "    log_features = np.zeros(basal_log_features.shape[0])\n",
    "    log_features_names = ''\n",
    "    for column in range (len(column_list)):\n",
    "        \n",
    "        #for the numbers\n",
    "        new_log = np.log1p(basal_log_features[:,column])\n",
    "        log_features = np.column_stack((log_features, new_log))\n",
    "        \n",
    "        #for the column names\n",
    "        initial_name = column_list [column]\n",
    "        log_names = ['{}_{}'.format(initial_name, 'log')]\n",
    "        log_features_names = np.append (log_features_names, log_names)\n",
    "        \n",
    "    #delete first elements not carrying meaningful information\n",
    "    log_features = np.delete(log_features, 0, axis = 1)\n",
    "    log_features_names = np.delete (log_features_names, 0)\n",
    "    \n",
    "    return log_features, log_features_names"
   ]
  },
  {
   "cell_type": "code",
   "execution_count": 19,
   "metadata": {},
   "outputs": [
    {
     "data": {
      "text/plain": [
       "capital gains_log            float64\n",
       "capital losses_log           float64\n",
       "dividends from stocks_log    float64\n",
       "wage per hour_log            float64\n",
       "dtype: object"
      ]
     },
     "execution_count": 19,
     "metadata": {},
     "output_type": "execute_result"
    }
   ],
   "source": [
    "log_features, log_features_names = create_log_features (df, logarithm_list)\n",
    "data_log = pd.DataFrame (data = log_features, columns = log_features_names)\n",
    "data_log.dtypes"
   ]
  },
  {
   "cell_type": "code",
   "execution_count": 20,
   "metadata": {},
   "outputs": [
    {
     "data": {
      "text/plain": [
       "(199523, 46)"
      ]
     },
     "execution_count": 20,
     "metadata": {},
     "output_type": "execute_result"
    }
   ],
   "source": [
    "# add the log features to the dataframe\n",
    "# reset index to avoid adding new rows to a dataframe and delete the first column\n",
    "df = pd.concat ([df.reset_index().drop ('index', axis = 1), data_log], axis = 1)\n",
    "df.shape"
   ]
  },
  {
   "cell_type": "markdown",
   "metadata": {},
   "source": [
    "#### Feature relationships "
   ]
  },
  {
   "cell_type": "code",
   "execution_count": 21,
   "metadata": {},
   "outputs": [
    {
     "data": {
      "text/plain": [
       "Index(['age', 'detailed industry record', 'detailed occupation record',\n",
       "       'wage per hour', 'capital gains', 'capital losses',\n",
       "       'dividends from stocks', 'num persons worked for employer',\n",
       "       'own business or self employed', 'veterans benefits',\n",
       "       'weeks worked in year', 'year', 'income', 'N_miss_val',\n",
       "       'capital gains_log', 'capital losses_log', 'dividends from stocks_log',\n",
       "       'wage per hour_log'],\n",
       "      dtype='object')"
      ]
     },
     "execution_count": 21,
     "metadata": {},
     "output_type": "execute_result"
    }
   ],
   "source": [
    "cont_columns_idx = df.columns[(df.dtypes == 'int64') | (df.dtypes == 'float64')]\n",
    "cont_columns_idx"
   ]
  },
  {
   "cell_type": "code",
   "execution_count": 22,
   "metadata": {
    "scrolled": false
   },
   "outputs": [
    {
     "data": {
      "image/png": "[encoded data removed]",
      "text/plain": [
       "<Figure size 1080x720 with 2 Axes>"
      ]
     },
     "metadata": {
      "needs_background": "light"
     },
     "output_type": "display_data"
    }
   ],
   "source": [
    "plt.figure(figsize = (15,10))\n",
    "cor = df[cont_columns_idx].corr()\n",
    "\n",
    "sns.heatmap (cor, annot = True, cmap = plt.cm.Reds)\n",
    "plt.show()"
   ]
  },
  {
   "cell_type": "markdown",
   "metadata": {},
   "source": [
    "The features are quite uncorrelated one with another. Only few have a correlation higher than 0.5, like the amount of weeks worked in a year and industry or occupational record. The industry record is also correlated with the amount of employees in a business. \n",
    "\n",
    "This will be eliminated as the industry code is not a true continuous variable, and, together with the occupation record, will be one-hot encoded.\n",
    "\n",
    "Interestingly, the number of missing values is highly correlated with the year when the information was gathered, while these features are hardly correlated with any other feature."
   ]
  },
  {
   "cell_type": "code",
   "execution_count": 23,
   "metadata": {},
   "outputs": [
    {
     "name": "stdout",
     "output_type": "stream",
     "text": [
      "(199523, 46)\n",
      "(199523, 42)\n"
     ]
    }
   ],
   "source": [
    "#dropping the highly correlated features\n",
    "print(df.shape)\n",
    "df.drop(['year', 'capital gains', 'capital losses', 'dividends from stocks'], axis = 1, inplace = True)\n",
    "print(df.shape)"
   ]
  },
  {
   "cell_type": "markdown",
   "metadata": {},
   "source": [
    "#### One-hot encoding"
   ]
  },
  {
   "cell_type": "code",
   "execution_count": 24,
   "metadata": {},
   "outputs": [],
   "source": [
    " #I need to convert numerical columns to 'object' class in order to perform one-hot encoding\n",
    "df = df.astype({'detailed industry record':'object', 'detailed occupation record':'object'}, copy = False)"
   ]
  },
  {
   "cell_type": "code",
   "execution_count": 25,
   "metadata": {},
   "outputs": [
    {
     "name": "stdout",
     "output_type": "stream",
     "text": [
      "N of categorical features before one-hot encoding: 30\n"
     ]
    }
   ],
   "source": [
    "# create a list of nominal categorical variables\n",
    "cat_columns_idx = df.columns[df.dtypes == 'object']\n",
    "cat_columns_idx\n",
    "print('N of categorical features before one-hot encoding:', len(cat_columns_idx))"
   ]
  },
  {
   "cell_type": "code",
   "execution_count": 26,
   "metadata": {},
   "outputs": [
    {
     "data": {
      "text/plain": [
       "(199523, 472)"
      ]
     },
     "execution_count": 26,
     "metadata": {},
     "output_type": "execute_result"
    }
   ],
   "source": [
    "#one-hot encoding\n",
    "one_hot_df = pd.get_dummies(df[cat_columns_idx], prefix = cat_columns_idx)\n",
    "one_hot_df.shape"
   ]
  },
  {
   "cell_type": "code",
   "execution_count": 27,
   "metadata": {},
   "outputs": [
    {
     "data": {
      "text/plain": [
       "(199523, 484)"
      ]
     },
     "execution_count": 27,
     "metadata": {},
     "output_type": "execute_result"
    }
   ],
   "source": [
    "#substitude the categorical features with the one-hot encoded ones\n",
    "df = pd.concat ([df, one_hot_df], axis = 1)\n",
    "df = df.drop(cat_columns_idx, axis = 1)\n",
    "df.shape"
   ]
  },
  {
   "cell_type": "markdown",
   "metadata": {},
   "source": [
    "### Dimensionality reduction"
   ]
  },
  {
   "cell_type": "markdown",
   "metadata": {},
   "source": [
    "As there are a lot of categorical variables with high cardinality (various options), one-hot encoding dramatically increased the number of features. "
   ]
  },
  {
   "cell_type": "markdown",
   "metadata": {},
   "source": [
    "There is a number of opitons for dimensionality reduction.\n",
    "\n",
    "\n",
    "The simpliest ones are built on removing features with the lowest variance  (PCA) or based on univariate statistical tests.\n",
    "Other options are based on ML models, such as LinearSVC, Logistic Regression and tree-based models. \n",
    "\n",
    "\n",
    "As a descision tree alone is usually a weak classifier and tree-based models require long computing times, I will concetrate on L1-based feature selection for classification problems using LinearSVC and Logistic Regression estimators. These estimators are designed with the assumption that each feature takes values close to zero or more importantly that all features vary on comparable scales.\n",
    "\n",
    "For these estimators to convert, I need to avoid ill conditioning and scale the data.\n",
    "\n",
    "Thus, I will reduce the dimensionality in 3 steps:\n",
    "\n",
    "    1) get rid of the features with extremely low variance\n",
    "    \n",
    "    2) scale the data using StandartScaler (no extreme outlieres were observed during EDA)\n",
    "    \n",
    "    3) use  LinearSVC and Logistic Regression estimators with L1 metrics"
   ]
  },
  {
   "cell_type": "code",
   "execution_count": 28,
   "metadata": {},
   "outputs": [
    {
     "name": "stdout",
     "output_type": "stream",
     "text": [
      "X shape: (199523, 483)\n",
      "y shape: (199523,)\n"
     ]
    }
   ],
   "source": [
    "#define X and y\n",
    "X = df.drop('income', axis = 1).values\n",
    "print('X shape:', X.shape)\n",
    "y = df['income'].values\n",
    "print('y shape:', y.shape)"
   ]
  },
  {
   "cell_type": "code",
   "execution_count": 29,
   "metadata": {},
   "outputs": [],
   "source": [
    "#Keep track of features names\n",
    "df_columns_complete =df.drop('income', axis = 1).columns"
   ]
  },
  {
   "cell_type": "code",
   "execution_count": 30,
   "metadata": {},
   "outputs": [
    {
     "name": "stdout",
     "output_type": "stream",
     "text": [
      "(199523, 388)\n"
     ]
    }
   ],
   "source": [
    "#geting rid of the features with extremely low variance\n",
    "from sklearn.feature_selection import VarianceThreshold\n",
    "sel = VarianceThreshold(threshold=(.999 * (1 - .999)))\n",
    "X = sel.fit_transform(X)\n",
    "print(X.shape)\n",
    "#Keep track of features names\n",
    "df_columnds_red1 = df_columns_complete [sel.get_support()]\n",
    "\n",
    "#Scaling the data using StandartScaler\n",
    "from sklearn.preprocessing import StandardScaler\n",
    "scaler = StandardScaler()\n",
    "X = scaler.fit_transform(X, y = None)"
   ]
  },
  {
   "cell_type": "code",
   "execution_count": 31,
   "metadata": {
    "scrolled": true
   },
   "outputs": [],
   "source": [
    "#Import the libraies for the L1-based feature selection\n",
    "from sklearn.svm import LinearSVC\n",
    "from sklearn.linear_model import LogisticRegression\n",
    "from sklearn.feature_selection import SelectFromModel"
   ]
  },
  {
   "cell_type": "markdown",
   "metadata": {},
   "source": [
    "Before incorporating dimensionality reduction into a pipeline, I want to see with which coefficients the estimators converge and result in a reasonable reduction of dimensions."
   ]
  },
  {
   "cell_type": "code",
   "execution_count": 32,
   "metadata": {},
   "outputs": [
    {
     "name": "stdout",
     "output_type": "stream",
     "text": [
      "N of features in initial dataset: 388\n",
      "N of featires after feauture reduction by LinearSVM for C 0.001 is 98\n",
      "N of featires after feauture reduction by Logistic Regression for C 0.001 is 41\n"
     ]
    },
    {
     "name": "stderr",
     "output_type": "stream",
     "text": [
      "C:\\Users\\Tanya\\Miniconda3\\envs\\exts-ml\\lib\\site-packages\\sklearn\\svm\\_base.py:977: ConvergenceWarning: Liblinear failed to converge, increase the number of iterations.\n",
      "  \"the number of iterations.\", ConvergenceWarning)\n"
     ]
    },
    {
     "name": "stdout",
     "output_type": "stream",
     "text": [
      "N of featires after feauture reduction by LinearSVM for C 0.01 is 250\n",
      "N of featires after feauture reduction by Logistic Regression for C 0.01 is 177\n"
     ]
    },
    {
     "name": "stderr",
     "output_type": "stream",
     "text": [
      "C:\\Users\\Tanya\\Miniconda3\\envs\\exts-ml\\lib\\site-packages\\sklearn\\svm\\_base.py:977: ConvergenceWarning: Liblinear failed to converge, increase the number of iterations.\n",
      "  \"the number of iterations.\", ConvergenceWarning)\n"
     ]
    },
    {
     "name": "stdout",
     "output_type": "stream",
     "text": [
      "N of featires after feauture reduction by LinearSVM for C 0.1 is 314\n"
     ]
    },
    {
     "name": "stderr",
     "output_type": "stream",
     "text": [
      "C:\\Users\\Tanya\\Miniconda3\\envs\\exts-ml\\lib\\site-packages\\sklearn\\linear_model\\_sag.py:330: ConvergenceWarning: The max_iter was reached which means the coef_ did not converge\n",
      "  \"the coef_ did not converge\", ConvergenceWarning)\n"
     ]
    },
    {
     "name": "stdout",
     "output_type": "stream",
     "text": [
      "N of featires after feauture reduction by Logistic Regression for C 0.1 is 313\n"
     ]
    }
   ],
   "source": [
    "print('N of features in initial dataset:', X.shape[1])\n",
    "for coef in [0.001, 0.01, 0.1]:\n",
    "    lsvc = LinearSVC(C=coef, penalty=\"l1\", dual=False).fit(X, y)\n",
    "    model = SelectFromModel(lsvc, prefit=True)\n",
    "    X_new = model.transform(X)\n",
    "    print('N of featires after feauture reduction by LinearSVM for C', coef, 'is', X_new.shape[1])\n",
    "\n",
    "    log_reg = LogisticRegression(C=coef, solver='saga', penalty='l1').fit(X, y)\n",
    "    model = SelectFromModel(log_reg, prefit=True)\n",
    "    X_new = model.transform(X)\n",
    "    print('N of featires after feauture reduction by Logistic Regression for C', coef, 'is', X_new.shape[1])"
   ]
  },
  {
   "cell_type": "markdown",
   "metadata": {},
   "source": [
    "The reasonable coefficient C for LinearSVM is 0.001 (the only one where it convereged). \n",
    "\n",
    "The reasonable coefficient C for LogisticRegression is 0.01. The estimator also convereged for  C=0.001, but reduced the amount of features too much, almost by 90%). "
   ]
  },
  {
   "cell_type": "code",
   "execution_count": 33,
   "metadata": {},
   "outputs": [
    {
     "name": "stdout",
     "output_type": "stream",
     "text": [
      "(199523, 97)\n"
     ]
    }
   ],
   "source": [
    "#I choose the reasonable dimensionality reduction with the lower amount of remaining features. The calculations yet pretty long.\n",
    "lsvc = LinearSVC(C=0.001, penalty=\"l1\", dual=False).fit(X, y)\n",
    "model = SelectFromModel(lsvc , prefit=True)\n",
    "X_new = model.transform(X)\n",
    "print(X_new.shape)\n",
    "#Keep track of features names\n",
    "df_columnds_red2 = df_columnds_red1 [model.get_support()]"
   ]
  },
  {
   "cell_type": "markdown",
   "metadata": {},
   "source": [
    "## 4) Machine learning "
   ]
  },
  {
   "cell_type": "markdown",
   "metadata": {},
   "source": [
    "### 4.a Prediction task is to determine whether a person makes over 50K a year. It is a binary classification problem."
   ]
  },
  {
   "cell_type": "markdown",
   "metadata": {},
   "source": [
    "### 4.b I will use a combination of kNN, RandomForest and Logistic Regression provided by SGD Classifier."
   ]
  },
  {
   "cell_type": "markdown",
   "metadata": {},
   "source": [
    "These models use quite different approaches to make predictions, that is why their combination might be benifitial for the prediction power.\n",
    "\n",
    "\n",
    "1. I will apply these classifiers on their own and find the optimal parameters using grid search.\n",
    "\n",
    "\n",
    "2. I will compare the performance of individual tuned classifiers with their ensemble using approaches of Max Voting and SuperLearner (that uses predictions of other's models as a feature for the last one) from the ML-Ensemble Library (mlens)."
   ]
  },
  {
   "cell_type": "markdown",
   "metadata": {},
   "source": [
    "#### K-Nearest Neighbors"
   ]
  },
  {
   "cell_type": "code",
   "execution_count": 34,
   "metadata": {},
   "outputs": [],
   "source": [
    "# observe each warning only once\n",
    "import warnings\n",
    "warnings.filterwarnings('ignore')\n",
    "warnings.filterwarnings(action='once')"
   ]
  },
  {
   "cell_type": "code",
   "execution_count": 35,
   "metadata": {},
   "outputs": [],
   "source": [
    "#used sklearn verion is 0.23.1\n",
    "from sklearn.model_selection import train_test_split\n",
    "#Split the data one to have train and test sets\n",
    "X_train, X_test, y_train, y_test = train_test_split(X_new, y, test_size=0.25, stratify=y, random_state=123, shuffle=True)\n"
   ]
  },
  {
   "cell_type": "code",
   "execution_count": 36,
   "metadata": {},
   "outputs": [],
   "source": [
    "#Take a small potion of data to perform calculations that cause Memory error on a full train set (like kNN)\n",
    "X_tr_1, X_test_1, y_tr_1, y_test_1 = train_test_split(\n",
    "    X_train, y_train, test_size=0.9, stratify=y_train, random_state=231, shuffle=True)\n",
    "#And split it again for the calculations\n",
    "X_tr_2, X_test_2, y_tr_2, y_test_2 = train_test_split(\n",
    "    X_tr_1, y_tr_1, test_size=0.3, stratify=y_tr_1, random_state=312, shuffle=True)"
   ]
  },
  {
   "cell_type": "code",
   "execution_count": 37,
   "metadata": {
    "scrolled": true
   },
   "outputs": [
    {
     "name": "stdout",
     "output_type": "stream",
     "text": [
      "Fitting 3 folds for each of 6 candidates, totalling 18 fits\n"
     ]
    },
    {
     "name": "stderr",
     "output_type": "stream",
     "text": [
      "[Parallel(n_jobs=1)]: Using backend SequentialBackend with 1 concurrent workers.\n",
      "[Parallel(n_jobs=1)]: Done  18 out of  18 | elapsed:  1.9min finished\n"
     ]
    }
   ],
   "source": [
    "from sklearn.neighbors import KNeighborsClassifier\n",
    "from sklearn.model_selection import GridSearchCV\n",
    "knn = KNeighborsClassifier(n_jobs=-1, algorithm='brute')\n",
    "\n",
    "#list the parameters to be evaluated\n",
    "parameters = {\n",
    "    'n_neighbors' : [13, 17, 25],\n",
    "    'p' : [1, 2]\n",
    "    }\n",
    "\n",
    "#Fit the model\n",
    "clf1 = GridSearchCV (knn, param_grid=parameters, verbose = 1, cv = 3, scoring = 'f1', return_train_score = True)\n",
    "#by default GridSearchCV uses stratified kfold  for cross-validation\n",
    "clf1.fit (X_tr_2, y_tr_2)\n",
    "#determine the best classifier\n",
    "kNN_clf = clf1.best_estimator_\n",
    "#predict the results\n",
    "y_pred_kNN = clf1.predict (X_test)"
   ]
  },
  {
   "cell_type": "markdown",
   "metadata": {},
   "source": [
    "In order to train the kNN algorithm on a full train dataset, I tried cashing it using the algorythm available at \n",
    "https://scikit-learn.org/stable/auto_examples/neighbors/plot_caching_nearest_neighbors.html#sphx-glr-auto-examples-neighbors-plot-caching-nearest-neighbors-py.\n",
    "\n",
    "After hours of calculation the algorithm converged, but the open code still seemed to create the graph of the train data each time again, so that there was no great improvement in time. The graph of the fit time looked the same as on an example, but did not reflect the real times.\n",
    "\n",
    "As improving (or better understanding) the code for cashing kNN is out of the scope for that project, I left that approach for better times."
   ]
  },
  {
   "cell_type": "code",
   "execution_count": 38,
   "metadata": {},
   "outputs": [
    {
     "name": "stdout",
     "output_type": "stream",
     "text": [
      "Best kNN: KNeighborsClassifier(algorithm='brute', n_jobs=-1, n_neighbors=13, p=1)\n"
     ]
    }
   ],
   "source": [
    "print('Best kNN:', clf1.best_estimator_)"
   ]
  },
  {
   "cell_type": "code",
   "execution_count": 39,
   "metadata": {},
   "outputs": [
    {
     "data": {
      "image/png": "[encoded data removed]",
      "text/plain": [
       "<Figure size 1080x360 with 2 Axes>"
      ]
     },
     "metadata": {
      "needs_background": "light"
     },
     "output_type": "display_data"
    }
   ],
   "source": [
    "%matplotlib inline\n",
    "import matplotlib.pyplot as plt\n",
    "\n",
    "f,ax = plt.subplots(1,2, figsize=(15,5))\n",
    "\n",
    "# Plot validation curves\n",
    "ax[0].plot(parameters['n_neighbors'], clf1.cv_results_['mean_train_score'][::2], label='train')\n",
    "ax[0].plot(parameters['n_neighbors'], clf1.cv_results_['mean_test_score'][::2], label='test')\n",
    "ax[0].set_title ('kNN algorythm with L1 distance')\n",
    "ax[0].set_xlabel ('Nunmber of neighbors')\n",
    "ax[0].set_ylabel ('ROC_AUC')\n",
    "ax[0].legend()\n",
    "\n",
    "#Get ylims from the first graph to apply to a second one\n",
    "ylims = ax[0].get_ylim()\n",
    "\n",
    "# Plot validation curves\n",
    "ax[1].plot(parameters['n_neighbors'], clf1.cv_results_['mean_train_score'][1::2], label='train')\n",
    "ax[1].plot(parameters['n_neighbors'], clf1.cv_results_['mean_test_score'][1::2], label='test')\n",
    "ax[1].set_ylim(ylims)\n",
    "ax[1].set_title ('kNN algorythm with L2 distance')\n",
    "ax[1].set_xlabel ('Nunmber of neighbors')\n",
    "ax[1].legend()\n",
    "plt.show()\n"
   ]
  },
  {
   "cell_type": "code",
   "execution_count": 40,
   "metadata": {},
   "outputs": [
    {
     "data": {
      "text/plain": [
       "classifier         kNN\n",
       "f1            0.288855\n",
       "roc_auc       0.588564\n",
       "accuracy      0.944227\n",
       "dtype: object"
      ]
     },
     "execution_count": 40,
     "metadata": {},
     "output_type": "execute_result"
    }
   ],
   "source": [
    "from sklearn.metrics import accuracy_score, f1_score, roc_auc_score, confusion_matrix \n",
    "\n",
    "#create a data frame to store classifiers scores in different metrics\n",
    "dict_kNN = {'classifier': 'kNN','f1': f1_score(y_test, y_pred_kNN), 'roc_auc': roc_auc_score(y_test, y_pred_kNN),\n",
    "            'accuracy':accuracy_score(y_test, y_pred_kNN) }\n",
    "class_res_kNN = pd.Series(data=dict_kNN )\n",
    "class_res_kNN\n"
   ]
  },
  {
   "cell_type": "code",
   "execution_count": 41,
   "metadata": {},
   "outputs": [
    {
     "name": "stdout",
     "output_type": "stream",
     "text": [
      "[[46534   251]\n",
      " [ 2531   565]]\n"
     ]
    }
   ],
   "source": [
    "#confusion matrix\n",
    "conf_matrix_kNN = confusion_matrix(y_test, y_pred_kNN)\n",
    "print(conf_matrix_kNN)"
   ]
  },
  {
   "cell_type": "markdown",
   "metadata": {},
   "source": [
    "#### RandomForest"
   ]
  },
  {
   "cell_type": "code",
   "execution_count": 42,
   "metadata": {
    "scrolled": false
   },
   "outputs": [
    {
     "name": "stdout",
     "output_type": "stream",
     "text": [
      "Fitting 3 folds for each of 9 candidates, totalling 27 fits\n"
     ]
    },
    {
     "name": "stderr",
     "output_type": "stream",
     "text": [
      "[Parallel(n_jobs=1)]: Using backend SequentialBackend with 1 concurrent workers.\n",
      "[Parallel(n_jobs=1)]: Done  27 out of  27 | elapsed: 13.7min finished\n"
     ]
    }
   ],
   "source": [
    "from sklearn.ensemble import RandomForestClassifier\n",
    "rf = RandomForestClassifier(n_jobs=-1, class_weight = 'balanced_subsample')\n",
    "\n",
    "parameters = {\n",
    "    'n_estimators' : [ 200, 300, 400],\n",
    "    'max_depth' : [3, 7, 15]\n",
    "    }\n",
    "\n",
    "#Fit the model, use roc_auc curve as a scoring parameter for optimisation \n",
    "clf2 = GridSearchCV (rf, param_grid=parameters, verbose = 1, cv = 3, scoring = 'f1', return_train_score = True)\n",
    "#by default GridSearchCV uses stratified kfold  for cross-validation\n",
    "clf2.fit (X_train, y_train)\n",
    "rf_clf = clf2.best_estimator_\n",
    "y_pred_rf = clf2.predict (X_test)\n",
    "\n"
   ]
  },
  {
   "cell_type": "code",
   "execution_count": 43,
   "metadata": {},
   "outputs": [
    {
     "data": {
      "text/plain": [
       "RandomForestClassifier(class_weight='balanced_subsample', max_depth=15,\n",
       "                       n_estimators=400, n_jobs=-1)"
      ]
     },
     "execution_count": 43,
     "metadata": {},
     "output_type": "execute_result"
    }
   ],
   "source": [
    "clf2.best_estimator_"
   ]
  },
  {
   "cell_type": "code",
   "execution_count": 44,
   "metadata": {},
   "outputs": [
    {
     "data": {
      "image/png": "[encoded data removed]",
      "text/plain": [
       "<Figure size 1080x360 with 3 Axes>"
      ]
     },
     "metadata": {
      "needs_background": "light"
     },
     "output_type": "display_data"
    }
   ],
   "source": [
    "\n",
    "fig, (ax1, ax2, ax3)   = plt.subplots(1, 3,figsize=(15,5) )\n",
    "\n",
    "# Plot validation curves\n",
    "ax1.plot(parameters['n_estimators'], clf2.cv_results_['mean_train_score'][::3], label='train')\n",
    "ax1.plot(parameters['n_estimators'], clf2.cv_results_['mean_test_score'][::3], label='test')\n",
    "ax1.set_title ('RandomForest algorythm with max depth 5')\n",
    "ax1.set_ylabel ('f1')\n",
    "ax1.legend()\n",
    "\n",
    "#Get ylims from the first graph to apply to a second one\n",
    "ylims = ax1.get_ylim()\n",
    "\n",
    "# Plot validation curves\n",
    "ax2.plot(parameters['n_estimators'], clf2.cv_results_['mean_train_score'][1::3], label='train')\n",
    "ax2.plot(parameters['n_estimators'], clf2.cv_results_['mean_test_score'][1::3], label='test')\n",
    "ax2.set_ylabel ('f1')\n",
    "ax2.set_ylim(ylims)\n",
    "ax2.set_title ('RandomForest algorythm with max depth 7')\n",
    "ax2.legend()\n",
    "\n",
    "# Plot validation curves\n",
    "ax3.plot(parameters['n_estimators'], clf2.cv_results_['mean_train_score'][2::3], label='train')\n",
    "ax3.plot(parameters['n_estimators'], clf2.cv_results_['mean_test_score'][2::3], label='test')\n",
    "ax3.set_ylabel ('f1')\n",
    "ax3.set_title ('RandomForest algorythm with max depth 12')\n",
    "ax3.set_xlabel ('Number of estimators')\n",
    "ax3.set_ylabel ('ROC_AUC')\n",
    "ax3.legend()\n",
    "\n",
    "\n",
    "plt.show()\n"
   ]
  },
  {
   "cell_type": "code",
   "execution_count": 45,
   "metadata": {},
   "outputs": [
    {
     "data": {
      "text/plain": [
       "array([0.33088628, 0.33064842, 0.33244903, 0.37138798, 0.37082073,\n",
       "       0.37139489, 0.45265799, 0.45092483, 0.45372953])"
      ]
     },
     "execution_count": 45,
     "metadata": {},
     "output_type": "execute_result"
    }
   ],
   "source": [
    "#The graphs look  identical, I want to look at the values\n",
    "clf2.cv_results_['mean_test_score']"
   ]
  },
  {
   "cell_type": "markdown",
   "metadata": {},
   "source": [
    "Ok, the scores are really very close to each other"
   ]
  },
  {
   "cell_type": "code",
   "execution_count": 46,
   "metadata": {},
   "outputs": [
    {
     "name": "stdout",
     "output_type": "stream",
     "text": [
      "Best kNN: RandomForestClassifier(class_weight='balanced_subsample', max_depth=15,\n",
      "                       n_estimators=400, n_jobs=-1)\n"
     ]
    }
   ],
   "source": [
    "print('Best kNN:', rf_clf)"
   ]
  },
  {
   "cell_type": "code",
   "execution_count": 47,
   "metadata": {
    "scrolled": true
   },
   "outputs": [],
   "source": [
    "#create a data frame to store classifiers scores in different metrics\n",
    "dict_rf = {'classifier': 'RandomForest','f1': f1_score(y_test, y_pred_rf), 'roc_auc': roc_auc_score(y_test, y_pred_rf),\n",
    "            'accuracy':accuracy_score(y_test,y_pred_rf) }\n",
    "class_res_rf = pd.Series(data=dict_rf )"
   ]
  },
  {
   "cell_type": "code",
   "execution_count": 48,
   "metadata": {},
   "outputs": [
    {
     "name": "stdout",
     "output_type": "stream",
     "text": [
      "[[40551  6234]\n",
      " [  467  2629]]\n"
     ]
    }
   ],
   "source": [
    "#confusion matrix\n",
    "conf_matrix_rf= confusion_matrix(y_test, y_pred_rf)\n",
    "print(conf_matrix_rf)"
   ]
  },
  {
   "cell_type": "code",
   "execution_count": 49,
   "metadata": {},
   "outputs": [
    {
     "data": {
      "text/html": [
       "<div>\n",
       "<style scoped>\n",
       "    .dataframe tbody tr th:only-of-type {\n",
       "        vertical-align: middle;\n",
       "    }\n",
       "\n",
       "    .dataframe tbody tr th {\n",
       "        vertical-align: top;\n",
       "    }\n",
       "\n",
       "    .dataframe thead th {\n",
       "        text-align: right;\n",
       "    }\n",
       "</style>\n",
       "<table border=\"1\" class=\"dataframe\">\n",
       "  <thead>\n",
       "    <tr style=\"text-align: right;\">\n",
       "      <th></th>\n",
       "      <th>classifier</th>\n",
       "      <th>f1</th>\n",
       "      <th>roc_auc</th>\n",
       "      <th>accuracy</th>\n",
       "    </tr>\n",
       "  </thead>\n",
       "  <tbody>\n",
       "    <tr>\n",
       "      <th>0</th>\n",
       "      <td>kNN</td>\n",
       "      <td>0.288855</td>\n",
       "      <td>0.588564</td>\n",
       "      <td>0.944227</td>\n",
       "    </tr>\n",
       "    <tr>\n",
       "      <th>1</th>\n",
       "      <td>RandomForest</td>\n",
       "      <td>0.439669</td>\n",
       "      <td>0.857956</td>\n",
       "      <td>0.86566</td>\n",
       "    </tr>\n",
       "  </tbody>\n",
       "</table>\n",
       "</div>"
      ],
      "text/plain": [
       "     classifier        f1   roc_auc  accuracy\n",
       "0           kNN  0.288855  0.588564  0.944227\n",
       "1  RandomForest  0.439669  0.857956   0.86566"
      ]
     },
     "execution_count": 49,
     "metadata": {},
     "output_type": "execute_result"
    }
   ],
   "source": [
    "class_scores = pd.concat([ class_res_kNN, class_res_rf], axis=1)\n",
    "class_scores.transpose()"
   ]
  },
  {
   "cell_type": "markdown",
   "metadata": {},
   "source": [
    "#### Logistic Regression"
   ]
  },
  {
   "cell_type": "code",
   "execution_count": 50,
   "metadata": {
    "scrolled": true
   },
   "outputs": [
    {
     "name": "stdout",
     "output_type": "stream",
     "text": [
      "Fitting 3 folds for each of 6 candidates, totalling 18 fits\n"
     ]
    },
    {
     "name": "stderr",
     "output_type": "stream",
     "text": [
      "[Parallel(n_jobs=1)]: Using backend SequentialBackend with 1 concurrent workers.\n",
      "C:\\Users\\Tanya\\Miniconda3\\envs\\exts-ml\\lib\\site-packages\\sklearn\\linear_model\\_stochastic_gradient.py:573: ConvergenceWarning: Maximum number of iteration reached before convergence. Consider increasing max_iter to improve the fit.\n",
      "  ConvergenceWarning)\n",
      "C:\\Users\\Tanya\\Miniconda3\\envs\\exts-ml\\lib\\site-packages\\sklearn\\linear_model\\_stochastic_gradient.py:573: ConvergenceWarning: Maximum number of iteration reached before convergence. Consider increasing max_iter to improve the fit.\n",
      "  ConvergenceWarning)\n",
      "C:\\Users\\Tanya\\Miniconda3\\envs\\exts-ml\\lib\\site-packages\\sklearn\\linear_model\\_stochastic_gradient.py:573: ConvergenceWarning: Maximum number of iteration reached before convergence. Consider increasing max_iter to improve the fit.\n",
      "  ConvergenceWarning)\n",
      "C:\\Users\\Tanya\\Miniconda3\\envs\\exts-ml\\lib\\site-packages\\sklearn\\linear_model\\_stochastic_gradient.py:573: ConvergenceWarning: Maximum number of iteration reached before convergence. Consider increasing max_iter to improve the fit.\n",
      "  ConvergenceWarning)\n",
      "C:\\Users\\Tanya\\Miniconda3\\envs\\exts-ml\\lib\\site-packages\\sklearn\\linear_model\\_stochastic_gradient.py:573: ConvergenceWarning: Maximum number of iteration reached before convergence. Consider increasing max_iter to improve the fit.\n",
      "  ConvergenceWarning)\n",
      "C:\\Users\\Tanya\\Miniconda3\\envs\\exts-ml\\lib\\site-packages\\sklearn\\linear_model\\_stochastic_gradient.py:573: ConvergenceWarning: Maximum number of iteration reached before convergence. Consider increasing max_iter to improve the fit.\n",
      "  ConvergenceWarning)\n",
      "C:\\Users\\Tanya\\Miniconda3\\envs\\exts-ml\\lib\\site-packages\\sklearn\\linear_model\\_stochastic_gradient.py:573: ConvergenceWarning: Maximum number of iteration reached before convergence. Consider increasing max_iter to improve the fit.\n",
      "  ConvergenceWarning)\n",
      "[Parallel(n_jobs=1)]: Done  18 out of  18 | elapsed: 12.5min finished\n"
     ]
    }
   ],
   "source": [
    "from sklearn.linear_model import SGDClassifier\n",
    "\n",
    "LogReg = SGDClassifier(loss = 'log', n_jobs=-1, max_iter = 1000, tol = 0.001, class_weight= 'balanced')\n",
    "\n",
    "parameters = {\n",
    "    'alpha' : [0.0005, 0.001, 0.005],\n",
    "    'penalty' : ['l1', 'l2']\n",
    "    }\n",
    "\n",
    "#Fit the model\n",
    "clf3 = GridSearchCV (LogReg, param_grid=parameters, verbose = 1, cv = 3, scoring = 'f1', return_train_score = True)\n",
    "#by default GridSearchCV uses stratified kfold  for cross-validation\n",
    "clf3.fit (X_train, y_train)\n",
    "logreg_clf = clf3.best_estimator_\n",
    "y_pred_logreg = clf3.predict (X_test)"
   ]
  },
  {
   "cell_type": "code",
   "execution_count": 51,
   "metadata": {},
   "outputs": [
    {
     "data": {
      "image/png": "[encoded data removed]",
      "text/plain": [
       "<Figure size 1080x504 with 2 Axes>"
      ]
     },
     "metadata": {
      "needs_background": "light"
     },
     "output_type": "display_data"
    }
   ],
   "source": [
    "f,ax = plt.subplots(1,2, figsize=(15,7))\n",
    "\n",
    "# Plot validation curves\n",
    "ax[0].plot(parameters['alpha'], clf3.cv_results_['mean_train_score'][::2], label='train')\n",
    "ax[0].plot(parameters['alpha'], clf3.cv_results_['mean_test_score'][::2], label='test')\n",
    "ax[0].set_title ('LogReg with l1 penalty')\n",
    "ax[0].set_ylabel ('ROC_AUC')\n",
    "ax[0].set_xlabel ('alpha')\n",
    "ax[0].legend()\n",
    "\n",
    "#Get ylims from the first graph to apply to a second one\n",
    "ylims = ax[0].get_ylim()\n",
    "\n",
    "# Plot validation curves\n",
    "ax[1].plot(parameters['alpha'], clf3.cv_results_['mean_train_score'][1::2], label='train')\n",
    "ax[1].set_ylim(ylims)\n",
    "ax[1].plot(parameters['alpha'], clf3.cv_results_['mean_test_score'][1::2], label='test')\n",
    "ax[1].set_title ('LogReg with l2 penalty')\n",
    "ax[1].set_xlabel ('alpha')\n",
    "ax[1].legend()\n",
    "\n",
    "plt.show()\n"
   ]
  },
  {
   "cell_type": "code",
   "execution_count": 52,
   "metadata": {
    "scrolled": true
   },
   "outputs": [
    {
     "name": "stdout",
     "output_type": "stream",
     "text": [
      "Best Logistis Regression: SGDClassifier(alpha=0.001, class_weight='balanced', loss='log', n_jobs=-1)\n"
     ]
    }
   ],
   "source": [
    "print('Best Logistis Regression:', logreg_clf)"
   ]
  },
  {
   "cell_type": "code",
   "execution_count": 53,
   "metadata": {},
   "outputs": [],
   "source": [
    "#create a data frame to store classifiers scores in different metrics\n",
    "dict_logreg = {'classifier': 'Logistic Regression','f1': f1_score(y_test, y_pred_logreg), 'roc_auc': roc_auc_score(y_test, y_pred_logreg),\n",
    "            'accuracy':accuracy_score(y_test,y_pred_logreg) }\n",
    "class_res_logreg = pd.Series(data=dict_logreg )"
   ]
  },
  {
   "cell_type": "code",
   "execution_count": 54,
   "metadata": {},
   "outputs": [
    {
     "name": "stdout",
     "output_type": "stream",
     "text": [
      "[[40158  6627]\n",
      " [  401  2695]]\n"
     ]
    }
   ],
   "source": [
    "conf_matrix_logreg = confusion_matrix(y_test, y_pred_logreg)\n",
    "print(conf_matrix_logreg)"
   ]
  },
  {
   "cell_type": "code",
   "execution_count": 55,
   "metadata": {},
   "outputs": [
    {
     "data": {
      "text/html": [
       "<div>\n",
       "<style scoped>\n",
       "    .dataframe tbody tr th:only-of-type {\n",
       "        vertical-align: middle;\n",
       "    }\n",
       "\n",
       "    .dataframe tbody tr th {\n",
       "        vertical-align: top;\n",
       "    }\n",
       "\n",
       "    .dataframe thead th {\n",
       "        text-align: right;\n",
       "    }\n",
       "</style>\n",
       "<table border=\"1\" class=\"dataframe\">\n",
       "  <thead>\n",
       "    <tr style=\"text-align: right;\">\n",
       "      <th></th>\n",
       "      <th>classifier</th>\n",
       "      <th>f1</th>\n",
       "      <th>roc_auc</th>\n",
       "      <th>accuracy</th>\n",
       "    </tr>\n",
       "  </thead>\n",
       "  <tbody>\n",
       "    <tr>\n",
       "      <th>0</th>\n",
       "      <td>kNN</td>\n",
       "      <td>0.288855</td>\n",
       "      <td>0.588564</td>\n",
       "      <td>0.944227</td>\n",
       "    </tr>\n",
       "    <tr>\n",
       "      <th>1</th>\n",
       "      <td>RandomForest</td>\n",
       "      <td>0.439669</td>\n",
       "      <td>0.857956</td>\n",
       "      <td>0.86566</td>\n",
       "    </tr>\n",
       "    <tr>\n",
       "      <th>0</th>\n",
       "      <td>Logistic Regression</td>\n",
       "      <td>0.434047</td>\n",
       "      <td>0.864415</td>\n",
       "      <td>0.859105</td>\n",
       "    </tr>\n",
       "  </tbody>\n",
       "</table>\n",
       "</div>"
      ],
      "text/plain": [
       "            classifier        f1   roc_auc  accuracy\n",
       "0                  kNN  0.288855  0.588564  0.944227\n",
       "1         RandomForest  0.439669  0.857956   0.86566\n",
       "0  Logistic Regression  0.434047  0.864415  0.859105"
      ]
     },
     "execution_count": 55,
     "metadata": {},
     "output_type": "execute_result"
    }
   ],
   "source": [
    "class_scores = pd.concat([ class_scores, class_res_logreg], axis=1)\n",
    "class_scores.transpose()"
   ]
  },
  {
   "cell_type": "markdown",
   "metadata": {},
   "source": [
    "#### Ensemble of algorithms (Max voter approach)"
   ]
  },
  {
   "cell_type": "code",
   "execution_count": 56,
   "metadata": {},
   "outputs": [],
   "source": [
    "from sklearn.ensemble import VotingClassifier\n",
    "eclf1 = VotingClassifier(estimators=[\n",
    "      ('kNN', kNN_clf), ('rf', rf_clf), ('logreg', logreg_clf )], voting='soft')\n",
    "eclf1 = eclf1.fit(X_tr_2, y_tr_2)\n",
    "y_pred_eclf1 = eclf1.predict(X_test)"
   ]
  },
  {
   "cell_type": "code",
   "execution_count": 57,
   "metadata": {
    "scrolled": false
   },
   "outputs": [],
   "source": [
    "#create a data frame to store classifiers scores in different metrics\n",
    "dict_eclf1 = {'classifier': 'max vote Ensemble','f1': f1_score(y_test, y_pred_eclf1), 'roc_auc': roc_auc_score(y_test, y_pred_eclf1),\n",
    "            'accuracy':accuracy_score(y_test,y_pred_eclf1) }\n",
    "class_res_eclf1 = pd.Series(data=dict_eclf1 )\n"
   ]
  },
  {
   "cell_type": "code",
   "execution_count": 58,
   "metadata": {},
   "outputs": [
    {
     "name": "stdout",
     "output_type": "stream",
     "text": [
      "[[44588  2197]\n",
      " [ 1117  1979]]\n"
     ]
    }
   ],
   "source": [
    "conf_matrix_eclf1 = confusion_matrix(y_test, y_pred_eclf1)\n",
    "print(conf_matrix_eclf1)"
   ]
  },
  {
   "cell_type": "code",
   "execution_count": 59,
   "metadata": {},
   "outputs": [
    {
     "data": {
      "text/html": [
       "<div>\n",
       "<style scoped>\n",
       "    .dataframe tbody tr th:only-of-type {\n",
       "        vertical-align: middle;\n",
       "    }\n",
       "\n",
       "    .dataframe tbody tr th {\n",
       "        vertical-align: top;\n",
       "    }\n",
       "\n",
       "    .dataframe thead th {\n",
       "        text-align: right;\n",
       "    }\n",
       "</style>\n",
       "<table border=\"1\" class=\"dataframe\">\n",
       "  <thead>\n",
       "    <tr style=\"text-align: right;\">\n",
       "      <th></th>\n",
       "      <th>classifier</th>\n",
       "      <th>f1</th>\n",
       "      <th>roc_auc</th>\n",
       "      <th>accuracy</th>\n",
       "    </tr>\n",
       "  </thead>\n",
       "  <tbody>\n",
       "    <tr>\n",
       "      <th>0</th>\n",
       "      <td>kNN</td>\n",
       "      <td>0.288855</td>\n",
       "      <td>0.588564</td>\n",
       "      <td>0.944227</td>\n",
       "    </tr>\n",
       "    <tr>\n",
       "      <th>1</th>\n",
       "      <td>RandomForest</td>\n",
       "      <td>0.439669</td>\n",
       "      <td>0.857956</td>\n",
       "      <td>0.86566</td>\n",
       "    </tr>\n",
       "    <tr>\n",
       "      <th>0</th>\n",
       "      <td>Logistic Regression</td>\n",
       "      <td>0.434047</td>\n",
       "      <td>0.864415</td>\n",
       "      <td>0.859105</td>\n",
       "    </tr>\n",
       "    <tr>\n",
       "      <th>0</th>\n",
       "      <td>max vote Ensemble</td>\n",
       "      <td>0.544279</td>\n",
       "      <td>0.796126</td>\n",
       "      <td>0.933562</td>\n",
       "    </tr>\n",
       "  </tbody>\n",
       "</table>\n",
       "</div>"
      ],
      "text/plain": [
       "            classifier        f1   roc_auc  accuracy\n",
       "0                  kNN  0.288855  0.588564  0.944227\n",
       "1         RandomForest  0.439669  0.857956   0.86566\n",
       "0  Logistic Regression  0.434047  0.864415  0.859105\n",
       "0    max vote Ensemble  0.544279  0.796126  0.933562"
      ]
     },
     "execution_count": 59,
     "metadata": {},
     "output_type": "execute_result"
    }
   ],
   "source": [
    "class_scores = pd.concat([class_scores, class_res_eclf1], axis=1)\n",
    "class_scores.transpose()"
   ]
  },
  {
   "cell_type": "markdown",
   "metadata": {},
   "source": [
    "#### Super Learner"
   ]
  },
  {
   "cell_type": "code",
   "execution_count": 60,
   "metadata": {},
   "outputs": [
    {
     "name": "stderr",
     "output_type": "stream",
     "text": [
      "[MLENS] backend: threading\n",
      "C:\\Users\\Tanya\\Miniconda3\\envs\\exts-ml\\lib\\site-packages\\mlens\\parallel\\_base_functions.py:226: MetricWarning: [kneighborsclassifier.1.2] Could not score kneighborsclassifier. Details:\n",
      "TypeError(\"__call__() missing 1 required positional argument: 'y_true'\",)\n",
      "  (name, inst_name, exc), MetricWarning)\n",
      "C:\\Users\\Tanya\\Miniconda3\\envs\\exts-ml\\lib\\site-packages\\mlens\\parallel\\_base_functions.py:226: MetricWarning: [kneighborsclassifier.0.1] Could not score kneighborsclassifier. Details:\n",
      "TypeError(\"__call__() missing 1 required positional argument: 'y_true'\",)\n",
      "  (name, inst_name, exc), MetricWarning)\n",
      "C:\\Users\\Tanya\\Miniconda3\\envs\\exts-ml\\lib\\site-packages\\mlens\\parallel\\_base_functions.py:226: MetricWarning: [randomforestclassifier.0.1] Could not score randomforestclassifier. Details:\n",
      "TypeError(\"__call__() missing 1 required positional argument: 'y_true'\",)\n",
      "  (name, inst_name, exc), MetricWarning)\n",
      "C:\\Users\\Tanya\\Miniconda3\\envs\\exts-ml\\lib\\site-packages\\mlens\\parallel\\_base_functions.py:226: MetricWarning: [randomforestclassifier.0.2] Could not score randomforestclassifier. Details:\n",
      "TypeError(\"__call__() missing 1 required positional argument: 'y_true'\",)\n",
      "  (name, inst_name, exc), MetricWarning)\n",
      "C:\\Users\\Tanya\\Miniconda3\\envs\\exts-ml\\lib\\site-packages\\mlens\\parallel\\_base_functions.py:226: MetricWarning: [randomforestclassifier.1.1] Could not score randomforestclassifier. Details:\n",
      "TypeError(\"__call__() missing 1 required positional argument: 'y_true'\",)\n",
      "  (name, inst_name, exc), MetricWarning)\n",
      "C:\\Users\\Tanya\\Miniconda3\\envs\\exts-ml\\lib\\site-packages\\mlens\\parallel\\_base_functions.py:226: MetricWarning: [randomforestclassifier.1.2] Could not score randomforestclassifier. Details:\n",
      "TypeError(\"__call__() missing 1 required positional argument: 'y_true'\",)\n",
      "  (name, inst_name, exc), MetricWarning)\n",
      "C:\\Users\\Tanya\\Miniconda3\\envs\\exts-ml\\lib\\site-packages\\mlens\\parallel\\_base_functions.py:226: MetricWarning: [sgdclassifier.0.1] Could not score sgdclassifier. Details:\n",
      "TypeError(\"__call__() missing 1 required positional argument: 'y_true'\",)\n",
      "  (name, inst_name, exc), MetricWarning)\n",
      "C:\\Users\\Tanya\\Miniconda3\\envs\\exts-ml\\lib\\site-packages\\mlens\\parallel\\_base_functions.py:226: MetricWarning: [sgdclassifier.0.2] Could not score sgdclassifier. Details:\n",
      "TypeError(\"__call__() missing 1 required positional argument: 'y_true'\",)\n",
      "  (name, inst_name, exc), MetricWarning)\n",
      "C:\\Users\\Tanya\\Miniconda3\\envs\\exts-ml\\lib\\site-packages\\mlens\\parallel\\_base_functions.py:226: MetricWarning: [sgdclassifier.1.1] Could not score sgdclassifier. Details:\n",
      "TypeError(\"__call__() missing 1 required positional argument: 'y_true'\",)\n",
      "  (name, inst_name, exc), MetricWarning)\n",
      "C:\\Users\\Tanya\\Miniconda3\\envs\\exts-ml\\lib\\site-packages\\mlens\\parallel\\_base_functions.py:226: MetricWarning: [sgdclassifier.1.2] Could not score sgdclassifier. Details:\n",
      "TypeError(\"__call__() missing 1 required positional argument: 'y_true'\",)\n",
      "  (name, inst_name, exc), MetricWarning)\n",
      "C:\\Users\\Tanya\\Miniconda3\\envs\\exts-ml\\lib\\site-packages\\mlens\\parallel\\_base_functions.py:226: MetricWarning: [kneighborsclassifier.1.1] Could not score kneighborsclassifier. Details:\n",
      "TypeError(\"__call__() missing 1 required positional argument: 'y_true'\",)\n",
      "  (name, inst_name, exc), MetricWarning)\n",
      "C:\\Users\\Tanya\\Miniconda3\\envs\\exts-ml\\lib\\site-packages\\mlens\\parallel\\_base_functions.py:226: MetricWarning: [kneighborsclassifier.0.2] Could not score kneighborsclassifier. Details:\n",
      "TypeError(\"__call__() missing 1 required positional argument: 'y_true'\",)\n",
      "  (name, inst_name, exc), MetricWarning)\n",
      "C:\\Users\\Tanya\\Miniconda3\\envs\\exts-ml\\lib\\site-packages\\mlens\\parallel\\_base_functions.py:226: MetricWarning: [logisticregression.0.0] Could not score logisticregression. Details:\n",
      "TypeError(\"__call__() missing 1 required positional argument: 'y_true'\",)\n",
      "  (name, inst_name, exc), MetricWarning)\n"
     ]
    }
   ],
   "source": [
    "#import mlens library\n",
    "from mlens.ensemble import Subsemble\n",
    "from sklearn.linear_model import LogisticRegression\n",
    "\n",
    "#create a scorer\n",
    "from mlens.metrics import make_scorer\n",
    "f1_scorer = make_scorer(f1_score, average='micro', greater_is_better=True)\n",
    "# Passing a scoring function will create cv scores during fitting\n",
    "# the scorer should be a simple function accepting to vectors and returning a scalar\n",
    "ensemble = Subsemble(scorer=f1_scorer)\n",
    "# Build the first layer\n",
    "ensemble.add([kNN_clf, rf_clf, logreg_clf])\n",
    "\n",
    "# Attach the final meta estimator\n",
    "ensemble.add_meta(LogisticRegression(tol=0.0001, max_iter=1000, class_weight = 'balanced', C = 0.01) )\n",
    "\n",
    "ensemble.fit(X_train, y_train)\n",
    "y_pred_suplearner= ensemble.predict(X_test)"
   ]
  },
  {
   "cell_type": "code",
   "execution_count": 61,
   "metadata": {},
   "outputs": [],
   "source": [
    "#create a data frame to store classifiers scores in different metrics\n",
    "dict_suplearn = {'classifier': 'Super Learner','f1': f1_score(y_test, y_pred_suplearner), 'roc_auc': roc_auc_score(y_test,y_pred_suplearner),\n",
    "            'accuracy':accuracy_score(y_test,y_pred_suplearner) }\n",
    "class_res_suplearn = pd.Series(data=dict_suplearn )"
   ]
  },
  {
   "cell_type": "code",
   "execution_count": 62,
   "metadata": {},
   "outputs": [
    {
     "name": "stdout",
     "output_type": "stream",
     "text": [
      "[[40173  6612]\n",
      " [  386  2710]]\n"
     ]
    }
   ],
   "source": [
    "conf_matrix_suplearner = confusion_matrix(y_test, y_pred_suplearner)\n",
    "print(conf_matrix_suplearner)"
   ]
  },
  {
   "cell_type": "code",
   "execution_count": 63,
   "metadata": {},
   "outputs": [
    {
     "data": {
      "text/html": [
       "<div>\n",
       "<style scoped>\n",
       "    .dataframe tbody tr th:only-of-type {\n",
       "        vertical-align: middle;\n",
       "    }\n",
       "\n",
       "    .dataframe tbody tr th {\n",
       "        vertical-align: top;\n",
       "    }\n",
       "\n",
       "    .dataframe thead th {\n",
       "        text-align: right;\n",
       "    }\n",
       "</style>\n",
       "<table border=\"1\" class=\"dataframe\">\n",
       "  <thead>\n",
       "    <tr style=\"text-align: right;\">\n",
       "      <th></th>\n",
       "      <th>classifier</th>\n",
       "      <th>f1</th>\n",
       "      <th>roc_auc</th>\n",
       "      <th>accuracy</th>\n",
       "    </tr>\n",
       "  </thead>\n",
       "  <tbody>\n",
       "    <tr>\n",
       "      <th>0</th>\n",
       "      <td>kNN</td>\n",
       "      <td>0.288855</td>\n",
       "      <td>0.588564</td>\n",
       "      <td>0.944227</td>\n",
       "    </tr>\n",
       "    <tr>\n",
       "      <th>1</th>\n",
       "      <td>RandomForest</td>\n",
       "      <td>0.439669</td>\n",
       "      <td>0.857956</td>\n",
       "      <td>0.86566</td>\n",
       "    </tr>\n",
       "    <tr>\n",
       "      <th>0</th>\n",
       "      <td>Logistic Regression</td>\n",
       "      <td>0.434047</td>\n",
       "      <td>0.864415</td>\n",
       "      <td>0.859105</td>\n",
       "    </tr>\n",
       "    <tr>\n",
       "      <th>0</th>\n",
       "      <td>max vote Ensemble</td>\n",
       "      <td>0.544279</td>\n",
       "      <td>0.796126</td>\n",
       "      <td>0.933562</td>\n",
       "    </tr>\n",
       "    <tr>\n",
       "      <th>0</th>\n",
       "      <td>Super Learner</td>\n",
       "      <td>0.436463</td>\n",
       "      <td>0.866998</td>\n",
       "      <td>0.859706</td>\n",
       "    </tr>\n",
       "  </tbody>\n",
       "</table>\n",
       "</div>"
      ],
      "text/plain": [
       "            classifier        f1   roc_auc  accuracy\n",
       "0                  kNN  0.288855  0.588564  0.944227\n",
       "1         RandomForest  0.439669  0.857956   0.86566\n",
       "0  Logistic Regression  0.434047  0.864415  0.859105\n",
       "0    max vote Ensemble  0.544279  0.796126  0.933562\n",
       "0        Super Learner  0.436463  0.866998  0.859706"
      ]
     },
     "execution_count": 63,
     "metadata": {},
     "output_type": "execute_result"
    }
   ],
   "source": [
    "class_scores = pd.concat([class_scores, class_res_suplearn], axis=1)\n",
    "class_scores.transpose()"
   ]
  },
  {
   "cell_type": "markdown",
   "metadata": {},
   "source": [
    "### Conclusions on classifiers effiency\n",
    "\n",
    "Random Forest and Logistic Regression  in SGDClasiifier implementation are doing a good job following the tuning of the parameters. Max Voting approuch (using 'soft' voting, i.e. summing probabilities for classes as opposite to \"hard\" voting, summing the predicting values) substantialy improves the result.\n",
    "\n",
    "Untuned SuperLearner perfroms as good as tuned Random Forest and Logistic Regression. I definetely haven't explored all the opportunities the package provides.\n",
    "\n",
    "It is worth noting that mlens library uses special algorithms that allows it to perform calculations using less computational power. In particular, it allowsto run kNN on a full training set, while the algorithm alone runs on the full set on my PC causes Memory Error.\n",
    "\n",
    "Also, mlens allows tuning the parameters of its classifiers, thus reducing the manual impact. It also allows to use a number of layers of classifiers.\n",
    "\n",
    "A link to the mlens documentation: https://mlens.readthedocs.io/en/0.1.x/getting_started/"
   ]
  },
  {
   "cell_type": "markdown",
   "metadata": {},
   "source": [
    "### Explainability. Defining parameters, that play the biggest role in the classification"
   ]
  },
  {
   "cell_type": "markdown",
   "metadata": {},
   "source": [
    "#### Random Forest Feature Importance"
   ]
  },
  {
   "cell_type": "code",
   "execution_count": 64,
   "metadata": {
    "scrolled": true
   },
   "outputs": [
    {
     "data": {
      "image/png": "[encoded data removed]",
      "text/plain": [
       "<Figure size 576x288 with 1 Axes>"
      ]
     },
     "metadata": {
      "needs_background": "light"
     },
     "output_type": "display_data"
    }
   ],
   "source": [
    "# feature importance ranking using Random Forest methods\n",
    "tree_feature_importances = (\n",
    "    rf_clf.feature_importances_)\n",
    "sorted_idx = tree_feature_importances.argsort()\n",
    "\n",
    "#N of most important features to display\n",
    "num_features = 5\n",
    "sorted_idx_short = sorted_idx[:num_features]\n",
    "\n",
    "#store the list of important features\n",
    "list_features_rf_MDI_raw = df_columnds_red2.values[sorted_idx_short]\n",
    "\n",
    "#clean the list to extract the name of the features using RegEx\n",
    "import re\n",
    "list_features_rf_MDI=list(range(len(list_features_rf_MDI_raw)))\n",
    "for feature in range(len(list_features_rf_MDI_raw)):\n",
    "        list_features_rf_MDI[feature] = re.split(r'(_+|<+|>+)', list_features_rf_MDI_raw[feature])[0]\n",
    "\n",
    "#display a bar plot\n",
    "y_ticks = np.arange(0, len(sorted_idx_short))\n",
    "fig, ax = plt.subplots(figsize=(8,4))\n",
    "ax.barh(y_ticks, tree_feature_importances[sorted_idx_short])\n",
    "ax.set_yticklabels(df_columnds_red2.values[sorted_idx_short])\n",
    "ax.set_yticks(y_ticks)\n",
    "ax.set_title(\"Random Forest Feature Importances (MDI)\")\n",
    "fig.tight_layout()\n",
    "plt.show()"
   ]
  },
  {
   "cell_type": "markdown",
   "metadata": {},
   "source": [
    "#### LIME approach"
   ]
  },
  {
   "cell_type": "code",
   "execution_count": 65,
   "metadata": {},
   "outputs": [],
   "source": [
    "#import the package\n",
    "import lime\n",
    "import lime.lime_tabular"
   ]
  },
  {
   "cell_type": "markdown",
   "metadata": {},
   "source": [
    "LIME provides local model interpretability. LIME modifies a single data sample by tweaking the feature values and observes the resulting impact on the output. \n",
    "\n",
    "LIME package allows to interpret the whole set of predicited values, not only one. But here I will pay attention only to feature importance for single predicitons."
   ]
  },
  {
   "cell_type": "code",
   "execution_count": 66,
   "metadata": {},
   "outputs": [
    {
     "name": "stderr",
     "output_type": "stream",
     "text": [
      "<>:15: DeprecationWarning: invalid escape sequence \\d\n"
     ]
    }
   ],
   "source": [
    "#a fucntion to extract names of the desicive features\n",
    "#import RegEx library\n",
    "import re\n",
    "\n",
    "#define a funciton\n",
    "def extract_feature_name(list_features_raw):\n",
    "    \n",
    "    #create a list of predefined size\n",
    "    list_features=list(range(len(list_features_raw)))\n",
    "    strip_or_interest = 0\n",
    "    #for each element of a tuple\n",
    "    for feature in range(len(list_features_raw)):\n",
    "        \n",
    "    #if the first element of a string is a number, choose the third string after a split   \n",
    "        if re.match('\\d+', list_features_raw[feature][0]): \n",
    "            strip_or_interest = 2\n",
    "        else:\n",
    "            strip_or_interest = 0\n",
    "            \n",
    "        #split the text by all the additiond ti the initial feature name and strip out the white spaces\n",
    "        list_features[feature] = re.split(r'(_+|<=+|>=+|<+|>+)', list_features_raw[feature][0])[strip_or_interest].strip()\n",
    "        \n",
    "    return list_features"
   ]
  },
  {
   "cell_type": "code",
   "execution_count": 67,
   "metadata": {},
   "outputs": [],
   "source": [
    "# Create the Lime Explainer\n",
    "# Be very careful in setting the order of the class names\n",
    "# use a small training set to safe time\n",
    "lime_explainer = lime.lime_tabular.LimeTabularExplainer(\n",
    "    X_train,\n",
    "    training_labels=y_train,\n",
    "    feature_names=df_columnds_red2.values,\n",
    "    feature_selection=\"auto\",\n",
    "    class_names=[\"<50k\", \">50k\"],\n",
    "    discretize_continuous=True,\n",
    "    discretizer=\"entropy\",\n",
    ")\n",
    "#pick a sample case from our test set \n",
    "row =  110\n",
    "num_features = len(sorted_idx_short)"
   ]
  },
  {
   "cell_type": "code",
   "execution_count": 68,
   "metadata": {
    "scrolled": true
   },
   "outputs": [
    {
     "name": "stdout",
     "output_type": "stream",
     "text": [
      "Predicted value by Random Forest: 1\n",
      "Correct class: 1\n"
     ]
    },
    {
     "data": {
      "image/png": "[encoded data removed]",
      "text/plain": [
       "<Figure size 432x288 with 1 Axes>"
      ]
     },
     "metadata": {
      "needs_background": "light"
     },
     "output_type": "display_data"
    }
   ],
   "source": [
    "exp = lime_explainer.explain_instance(X_test[row], rf_clf.predict_proba, num_features =num_features )\n",
    " \n",
    "exp.as_pyplot_figure()\n",
    "print ('Predicted value by Random Forest:', y_pred_rf[row])\n",
    "print ('Correct class:', y_test[row])\n",
    "\n",
    "#store the list of important features\n",
    "list_features_rf_LIME = extract_feature_name(exp.as_list())"
   ]
  },
  {
   "cell_type": "code",
   "execution_count": 69,
   "metadata": {},
   "outputs": [
    {
     "name": "stdout",
     "output_type": "stream",
     "text": [
      "Predicted value by kNN: 0\n",
      "Correct class: 1\n"
     ]
    },
    {
     "data": {
      "image/png": "[encoded data removed]",
      "text/plain": [
       "<Figure size 432x288 with 1 Axes>"
      ]
     },
     "metadata": {
      "needs_background": "light"
     },
     "output_type": "display_data"
    }
   ],
   "source": [
    "exp = lime_explainer.explain_instance(X_test[row], kNN_clf.predict_proba, num_features = num_features )\n",
    " \n",
    "exp.as_pyplot_figure()\n",
    "print ('Predicted value by kNN:', y_pred_kNN[row])\n",
    "print ('Correct class:', y_test[row])\n",
    "\n",
    "#store the list of important features\n",
    "list_features_kNN_LIME = extract_feature_name(exp.as_list())"
   ]
  },
  {
   "cell_type": "code",
   "execution_count": 70,
   "metadata": {},
   "outputs": [
    {
     "name": "stdout",
     "output_type": "stream",
     "text": [
      "Predicted value by Logistic Regression: 1\n",
      "Correct class: 1\n"
     ]
    },
    {
     "data": {
      "image/png": "[encoded data removed]",
      "text/plain": [
       "<Figure size 432x288 with 1 Axes>"
      ]
     },
     "metadata": {
      "needs_background": "light"
     },
     "output_type": "display_data"
    }
   ],
   "source": [
    "exp = lime_explainer.explain_instance(X_test[row], logreg_clf.predict_proba, num_features = num_features )\n",
    " \n",
    "exp.as_pyplot_figure()\n",
    "print ('Predicted value by Logistic Regression:', y_pred_logreg[110])\n",
    "print ('Correct class:', y_test[row])\n",
    "\n",
    "#store the list of important features\n",
    "list_features_logreg_LIME = extract_feature_name(exp.as_list())"
   ]
  },
  {
   "cell_type": "code",
   "execution_count": 71,
   "metadata": {},
   "outputs": [
    {
     "name": "stdout",
     "output_type": "stream",
     "text": [
      "Predicted value by Max Vouting ensemble: 1\n",
      "Correct class: 1\n"
     ]
    },
    {
     "data": {
      "image/png": "[encoded data removed]",
      "text/plain": [
       "<Figure size 432x288 with 1 Axes>"
      ]
     },
     "metadata": {
      "needs_background": "light"
     },
     "output_type": "display_data"
    }
   ],
   "source": [
    "#VotingClassifier does not reurn probabilites for classes\n",
    "#I need to create a fucntion converting the 1D output array into a 2D one to feed in the lime_explainer\n",
    "def wrapped_fn(X):\n",
    "    p = eclf1.predict(X).reshape(-1, 1)\n",
    "    return np.hstack((1-p, p))\n",
    "\n",
    "exp = lime_explainer.explain_instance(X_test[row], wrapped_fn, num_features = num_features)\n",
    " \n",
    "exp.as_pyplot_figure()\n",
    "print ('Predicted value by Max Vouting ensemble:', y_pred_eclf1[row])\n",
    "print ('Correct class:', y_test[row])\n",
    "\n",
    "#store the list of important features\n",
    "list_features_maxvouter_LIME = extract_feature_name(exp.as_list())"
   ]
  },
  {
   "cell_type": "code",
   "execution_count": 72,
   "metadata": {
    "scrolled": false
   },
   "outputs": [
    {
     "name": "stdout",
     "output_type": "stream",
     "text": [
      "Predicted value by Max Vouting ensemble: 1.0\n",
      "Correct class: 1\n"
     ]
    },
    {
     "data": {
      "image/png": "[encoded data removed]",
      "text/plain": [
       "<Figure size 432x288 with 1 Axes>"
      ]
     },
     "metadata": {
      "needs_background": "light"
     },
     "output_type": "display_data"
    }
   ],
   "source": [
    "def wrapped_fn_suplearner(X):\n",
    "    p = ensemble.predict(X).reshape(-1, 1)\n",
    "    return np.hstack((1-p, p))\n",
    "\n",
    "exp = lime_explainer.explain_instance(X_test[row], wrapped_fn_suplearner, num_features = num_features )\n",
    " \n",
    "exp.as_pyplot_figure()\n",
    "print ('Predicted value by Max Vouting ensemble:', y_pred_suplearner[row])\n",
    "print ('Correct class:', y_test[row])\n",
    "\n",
    "#store the list of important features\n",
    "list_features_suplearner_LIME = extract_feature_name(exp.as_list())"
   ]
  },
  {
   "cell_type": "code",
   "execution_count": 73,
   "metadata": {},
   "outputs": [
    {
     "data": {
      "text/plain": [
       "education                     7\n",
       "dividends from stocks         4\n",
       "detailed industry record      4\n",
       "detailed occupation record    3\n",
       "capital gains                 3\n",
       "weeks worked in year          3\n",
       "tax filer stat                2\n",
       "sex                           2\n",
       "capital losses                1\n",
       "age                           1\n",
       "dtype: int64"
      ]
     },
     "execution_count": 73,
     "metadata": {},
     "output_type": "execute_result"
    }
   ],
   "source": [
    "#create a list of 5 most important features according to all 6 classifiers\n",
    "list_features_LIME = list_features_rf_MDI + list_features_rf_LIME+list_features_kNN_LIME+list_features_logreg_LIME+list_features_maxvouter_LIME+list_features_suplearner_LIME\n",
    "list_features_LIME_ser = pd.Series (list_features_LIME)\n",
    "\n",
    "#count values\n",
    "list_features_LIME_ser.value_counts()"
   ]
  },
  {
   "cell_type": "markdown",
   "metadata": {},
   "source": [
    "There are a lot of things that can be improved in the impretability part of the project.\n",
    "\n",
    "I might run LIME explainer on more instances and base my conclusion on more instances. I might also choose only one or few classifiers with the best scores for that. \n",
    "\n",
    "Finally, there are another packages that are widely used for model interpretability, as one for calculating SHAP values.\n",
    "\n",
    "However, I believe that this simple analysis can already provide important insights."
   ]
  },
  {
   "cell_type": "markdown",
   "metadata": {},
   "source": [
    "### Conclusion on feature importance"
   ]
  },
  {
   "cell_type": "markdown",
   "metadata": {},
   "source": [
    "According to that simple analysis of feature importance, it seems that education and occupation/industry are the main factors, underlying the person's income. This is great news, as these things depend on personal choices and achievements.\n",
    "\n",
    "While dividence from stock, capital gains and losses are connected to the salary, they can also originated from inheretence, and thus reflect and existent economical inequality. On the other hand, a person with high income is likely to have stocks or have changes in capital. So these features do not imply anything in terms of economical inequality by themselves.\n",
    "\n",
    "Sex and age are also present in the list of important features for income predictions, indicating that they can be a matter of discriminaiton. They, however, seem to play a less important role than education and occupation. Other sensetive characteristics, such as race or place of origin do not occur in this short list and might have less predictive power."
   ]
  }
 ],
 "metadata": {
  "kernelspec": {
   "display_name": "Python 3",
   "language": "python",
   "name": "python3"
  },
  "language_info": {
   "codemirror_mode": {
    "name": "ipython",
    "version": 3
   },
   "file_extension": ".py",
   "mimetype": "text/x-python",
   "name": "python",
   "nbconvert_exporter": "python",
   "pygments_lexer": "ipython3",
   "version": "3.6.9"
  }
 },
 "nbformat": 4,
 "nbformat_minor": 2
}
